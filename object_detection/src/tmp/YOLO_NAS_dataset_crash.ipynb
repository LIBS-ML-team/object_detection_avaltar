{
  "nbformat": 4,
  "nbformat_minor": 0,
  "metadata": {
    "colab": {
      "provenance": [],
      "gpuType": "T4"
    },
    "kernelspec": {
      "name": "python3",
      "display_name": "Python 3"
    },
    "language_info": {
      "name": "python"
    },
    "accelerator": "GPU"
  },
  "cells": [
    {
      "cell_type": "code",
      "execution_count": 1,
      "metadata": {
        "id": "KYwOpkceLr1u"
      },
      "outputs": [],
      "source": [
        "import locale\n",
        "import torch\n",
        "locale.getpreferredencoding = lambda: \"UTF-8\""
      ]
    },
    {
      "cell_type": "code",
      "source": [
        "!pip install onnx\n",
        "!pip install onnxruntime\n",
        "!pip install onnxruntime-gpu"
      ],
      "metadata": {
        "colab": {
          "base_uri": "https://localhost:8080/"
        },
        "id": "n29x1A71VHpL",
        "outputId": "73ee0625-82d8-437b-ac4f-f8cbe1b49b70"
      },
      "execution_count": 2,
      "outputs": [
        {
          "output_type": "stream",
          "name": "stdout",
          "text": [
            "Collecting onnx\n",
            "  Downloading onnx-1.16.2-cp310-cp310-manylinux_2_17_x86_64.manylinux2014_x86_64.whl.metadata (16 kB)\n",
            "Requirement already satisfied: numpy>=1.20 in /usr/local/lib/python3.10/dist-packages (from onnx) (1.26.4)\n",
            "Requirement already satisfied: protobuf>=3.20.2 in /usr/local/lib/python3.10/dist-packages (from onnx) (3.20.3)\n",
            "Downloading onnx-1.16.2-cp310-cp310-manylinux_2_17_x86_64.manylinux2014_x86_64.whl (15.9 MB)\n",
            "\u001b[2K   \u001b[90m━━━━━━━━━━━━━━━━━━━━━━━━━━━━━━━━━━━━━━━━\u001b[0m \u001b[32m15.9/15.9 MB\u001b[0m \u001b[31m26.5 MB/s\u001b[0m eta \u001b[36m0:00:00\u001b[0m\n",
            "\u001b[?25hInstalling collected packages: onnx\n",
            "Successfully installed onnx-1.16.2\n",
            "Collecting onnxruntime\n",
            "  Downloading onnxruntime-1.19.2-cp310-cp310-manylinux_2_27_x86_64.manylinux_2_28_x86_64.whl.metadata (4.5 kB)\n",
            "Collecting coloredlogs (from onnxruntime)\n",
            "  Downloading coloredlogs-15.0.1-py2.py3-none-any.whl.metadata (12 kB)\n",
            "Requirement already satisfied: flatbuffers in /usr/local/lib/python3.10/dist-packages (from onnxruntime) (24.3.25)\n",
            "Requirement already satisfied: numpy>=1.21.6 in /usr/local/lib/python3.10/dist-packages (from onnxruntime) (1.26.4)\n",
            "Requirement already satisfied: packaging in /usr/local/lib/python3.10/dist-packages (from onnxruntime) (24.1)\n",
            "Requirement already satisfied: protobuf in /usr/local/lib/python3.10/dist-packages (from onnxruntime) (3.20.3)\n",
            "Requirement already satisfied: sympy in /usr/local/lib/python3.10/dist-packages (from onnxruntime) (1.13.2)\n",
            "Collecting humanfriendly>=9.1 (from coloredlogs->onnxruntime)\n",
            "  Downloading humanfriendly-10.0-py2.py3-none-any.whl.metadata (9.2 kB)\n",
            "Requirement already satisfied: mpmath<1.4,>=1.1.0 in /usr/local/lib/python3.10/dist-packages (from sympy->onnxruntime) (1.3.0)\n",
            "Downloading onnxruntime-1.19.2-cp310-cp310-manylinux_2_27_x86_64.manylinux_2_28_x86_64.whl (13.2 MB)\n",
            "\u001b[2K   \u001b[90m━━━━━━━━━━━━━━━━━━━━━━━━━━━━━━━━━━━━━━━━\u001b[0m \u001b[32m13.2/13.2 MB\u001b[0m \u001b[31m21.4 MB/s\u001b[0m eta \u001b[36m0:00:00\u001b[0m\n",
            "\u001b[?25hDownloading coloredlogs-15.0.1-py2.py3-none-any.whl (46 kB)\n",
            "\u001b[2K   \u001b[90m━━━━━━━━━━━━━━━━━━━━━━━━━━━━━━━━━━━━━━━━\u001b[0m \u001b[32m46.0/46.0 kB\u001b[0m \u001b[31m1.1 MB/s\u001b[0m eta \u001b[36m0:00:00\u001b[0m\n",
            "\u001b[?25hDownloading humanfriendly-10.0-py2.py3-none-any.whl (86 kB)\n",
            "\u001b[2K   \u001b[90m━━━━━━━━━━━━━━━━━━━━━━━━━━━━━━━━━━━━━━━━\u001b[0m \u001b[32m86.8/86.8 kB\u001b[0m \u001b[31m4.0 MB/s\u001b[0m eta \u001b[36m0:00:00\u001b[0m\n",
            "\u001b[?25hInstalling collected packages: humanfriendly, coloredlogs, onnxruntime\n",
            "Successfully installed coloredlogs-15.0.1 humanfriendly-10.0 onnxruntime-1.19.2\n",
            "Collecting onnxruntime-gpu\n",
            "  Downloading onnxruntime_gpu-1.19.2-cp310-cp310-manylinux_2_27_x86_64.manylinux_2_28_x86_64.whl.metadata (4.5 kB)\n",
            "Requirement already satisfied: coloredlogs in /usr/local/lib/python3.10/dist-packages (from onnxruntime-gpu) (15.0.1)\n",
            "Requirement already satisfied: flatbuffers in /usr/local/lib/python3.10/dist-packages (from onnxruntime-gpu) (24.3.25)\n",
            "Requirement already satisfied: numpy>=1.21.6 in /usr/local/lib/python3.10/dist-packages (from onnxruntime-gpu) (1.26.4)\n",
            "Requirement already satisfied: packaging in /usr/local/lib/python3.10/dist-packages (from onnxruntime-gpu) (24.1)\n",
            "Requirement already satisfied: protobuf in /usr/local/lib/python3.10/dist-packages (from onnxruntime-gpu) (3.20.3)\n",
            "Requirement already satisfied: sympy in /usr/local/lib/python3.10/dist-packages (from onnxruntime-gpu) (1.13.2)\n",
            "Requirement already satisfied: humanfriendly>=9.1 in /usr/local/lib/python3.10/dist-packages (from coloredlogs->onnxruntime-gpu) (10.0)\n",
            "Requirement already satisfied: mpmath<1.4,>=1.1.0 in /usr/local/lib/python3.10/dist-packages (from sympy->onnxruntime-gpu) (1.3.0)\n",
            "Downloading onnxruntime_gpu-1.19.2-cp310-cp310-manylinux_2_27_x86_64.manylinux_2_28_x86_64.whl (226.2 MB)\n",
            "\u001b[2K   \u001b[90m━━━━━━━━━━━━━━━━━━━━━━━━━━━━━━━━━━━━━━━━\u001b[0m \u001b[32m226.2/226.2 MB\u001b[0m \u001b[31m4.8 MB/s\u001b[0m eta \u001b[36m0:00:00\u001b[0m\n",
            "\u001b[?25hInstalling collected packages: onnxruntime-gpu\n",
            "Successfully installed onnxruntime-gpu-1.19.2\n"
          ]
        }
      ]
    },
    {
      "cell_type": "code",
      "source": [
        "def install_onnxruntime():\n",
        "    if torch.cuda.is_available():\n",
        "        # Install ONNX Runtime GPU version\n",
        "        subprocess.check_call([sys.executable, \"-m\", \"pip\", \"install\", \"onnxruntime-gpu\"])\n",
        "        print(\"Installed onnxruntime-gpu for GPU execution.\")\n",
        "    else:\n",
        "        # Install ONNX Runtime CPU version\n",
        "        subprocess.check_call([sys.executable, \"-m\", \"pip\", \"install\", \"onnxruntime\"])\n",
        "        print(\"Installed onnxruntime for CPU execution.\")"
      ],
      "metadata": {
        "id": "IXYj2pHsVHrL"
      },
      "execution_count": 3,
      "outputs": []
    },
    {
      "cell_type": "code",
      "source": [
        "import onnxruntime as ort\n",
        "import subprocess\n",
        "import sys"
      ],
      "metadata": {
        "id": "Nw4Vu0tLVynR"
      },
      "execution_count": 4,
      "outputs": []
    },
    {
      "cell_type": "code",
      "source": [
        "install_onnxruntime()"
      ],
      "metadata": {
        "colab": {
          "base_uri": "https://localhost:8080/"
        },
        "id": "VwZik75JVHth",
        "outputId": "f57db218-23fc-49c4-c2d1-92cfde1c901c"
      },
      "execution_count": 5,
      "outputs": [
        {
          "output_type": "stream",
          "name": "stdout",
          "text": [
            "Installed onnxruntime-gpu for GPU execution.\n"
          ]
        }
      ]
    },
    {
      "cell_type": "code",
      "source": [
        "import torch\n",
        "from torch.utils.data import DataLoader\n",
        "from torchvision import datasets, transforms\n",
        "\n",
        "import torch.nn as nn\n",
        "import torch.optim as optim\n",
        "from torchvision import models\n",
        "\n",
        "import os\n",
        "import time\n",
        "import cv2\n",
        "import numpy as np\n",
        "import pandas as pd\n",
        "import matplotlib.pyplot as plt\n",
        "from PIL import Image\n",
        "import onnxruntime as ort\n",
        "import subprocess\n",
        "import sys"
      ],
      "metadata": {
        "id": "4G-hbJnkVHwR"
      },
      "execution_count": 6,
      "outputs": []
    },
    {
      "cell_type": "markdown",
      "source": [
        "# Install dataset"
      ],
      "metadata": {
        "id": "Y56E96n3VnKL"
      }
    },
    {
      "cell_type": "code",
      "source": [
        "!pip install kaggle"
      ],
      "metadata": {
        "colab": {
          "base_uri": "https://localhost:8080/"
        },
        "id": "LLA9fvXyVHyv",
        "outputId": "abdfb307-d9a6-405f-9634-5087328335de"
      },
      "execution_count": 7,
      "outputs": [
        {
          "output_type": "stream",
          "name": "stdout",
          "text": [
            "Requirement already satisfied: kaggle in /usr/local/lib/python3.10/dist-packages (1.6.17)\n",
            "Requirement already satisfied: six>=1.10 in /usr/local/lib/python3.10/dist-packages (from kaggle) (1.16.0)\n",
            "Requirement already satisfied: certifi>=2023.7.22 in /usr/local/lib/python3.10/dist-packages (from kaggle) (2024.8.30)\n",
            "Requirement already satisfied: python-dateutil in /usr/local/lib/python3.10/dist-packages (from kaggle) (2.8.2)\n",
            "Requirement already satisfied: requests in /usr/local/lib/python3.10/dist-packages (from kaggle) (2.32.3)\n",
            "Requirement already satisfied: tqdm in /usr/local/lib/python3.10/dist-packages (from kaggle) (4.66.5)\n",
            "Requirement already satisfied: python-slugify in /usr/local/lib/python3.10/dist-packages (from kaggle) (8.0.4)\n",
            "Requirement already satisfied: urllib3 in /usr/local/lib/python3.10/dist-packages (from kaggle) (2.0.7)\n",
            "Requirement already satisfied: bleach in /usr/local/lib/python3.10/dist-packages (from kaggle) (6.1.0)\n",
            "Requirement already satisfied: webencodings in /usr/local/lib/python3.10/dist-packages (from bleach->kaggle) (0.5.1)\n",
            "Requirement already satisfied: text-unidecode>=1.3 in /usr/local/lib/python3.10/dist-packages (from python-slugify->kaggle) (1.3)\n",
            "Requirement already satisfied: charset-normalizer<4,>=2 in /usr/local/lib/python3.10/dist-packages (from requests->kaggle) (3.3.2)\n",
            "Requirement already satisfied: idna<4,>=2.5 in /usr/local/lib/python3.10/dist-packages (from requests->kaggle) (3.8)\n"
          ]
        }
      ]
    },
    {
      "cell_type": "code",
      "source": [
        "# Dowload image dataset for crash detection\n",
        "!kaggle datasets download -d ckay16/accident-detection-from-cctv-footage\n",
        "!unzip -q 'accident-detection-from-cctv-footage.zip' -d /content/dataset\n",
        "\n",
        "# Dowload video dataset for car crashes\n",
        "!kaggle datasets download -d fahaddalwai/cctvfootagevideo\n",
        "!unzip -q 'cctvfootagevideo.zip' -d /content/dataset/videos"
      ],
      "metadata": {
        "colab": {
          "base_uri": "https://localhost:8080/"
        },
        "id": "YL8ZsKxJVH1Z",
        "outputId": "f3fbda1e-0557-4943-e722-339d6213bfed"
      },
      "execution_count": 8,
      "outputs": [
        {
          "output_type": "stream",
          "name": "stdout",
          "text": [
            "Dataset URL: https://www.kaggle.com/datasets/ckay16/accident-detection-from-cctv-footage\n",
            "License(s): ODbL-1.0\n",
            "Downloading accident-detection-from-cctv-footage.zip to /content\n",
            " 97% 242M/249M [00:01<00:00, 158MB/s]\n",
            "100% 249M/249M [00:01<00:00, 151MB/s]\n",
            "Dataset URL: https://www.kaggle.com/datasets/fahaddalwai/cctvfootagevideo\n",
            "License(s): CC-BY-NC-SA-4.0\n",
            "Downloading cctvfootagevideo.zip to /content\n",
            " 52% 5.00M/9.68M [00:00<00:00, 24.7MB/s]\n",
            "100% 9.68M/9.68M [00:00<00:00, 37.7MB/s]\n"
          ]
        }
      ]
    },
    {
      "cell_type": "markdown",
      "source": [
        "# Preprocessing"
      ],
      "metadata": {
        "id": "Jm2-Gv51WCPG"
      }
    },
    {
      "cell_type": "code",
      "source": [
        "batch_size = 10\n",
        "img_height = 224\n",
        "img_width = 224\n",
        "\n",
        "device = torch.device(\"cuda\" if torch.cuda.is_available() else \"cpu\")\n",
        "\n",
        "transform = transforms.Compose([\n",
        "    transforms.Resize((img_height, img_width)),\n",
        "    transforms.ToTensor(),])\n",
        "\n",
        "train_dir = '/content/dataset/data/train'\n",
        "test_dir = '/content/dataset/data/test'\n",
        "val_dir = '/content/dataset/data/val'\n",
        "\n",
        "train_dataset = datasets.ImageFolder(root=train_dir, transform=transform)\n",
        "test_dataset = datasets.ImageFolder(root=test_dir, transform=transform)\n",
        "val_dataset = datasets.ImageFolder(root=val_dir, transform=transform)\n",
        "\n",
        "num_classes = len(train_dataset.classes)"
      ],
      "metadata": {
        "id": "DmcDUotaWBlF"
      },
      "execution_count": 9,
      "outputs": []
    },
    {
      "cell_type": "code",
      "source": [
        "train_loader = DataLoader(\n",
        "    train_dataset,\n",
        "    batch_size=batch_size,\n",
        "    shuffle=True,\n",
        "    num_workers=2,\n",
        "    pin_memory=True\n",
        ")\n",
        "\n",
        "test_loader = DataLoader(\n",
        "    test_dataset,\n",
        "    batch_size=batch_size,\n",
        "    shuffle=True,\n",
        "    num_workers=2,\n",
        "    pin_memory=True\n",
        ")\n",
        "\n",
        "val_loader = DataLoader(\n",
        "    val_dataset,\n",
        "    batch_size=batch_size,\n",
        "    shuffle=False,\n",
        "    num_workers=2,\n",
        "    pin_memory=True\n",
        ")\n",
        "\n",
        "\n",
        "class_names = train_dataset.classes\n",
        "print(\"Classes:\", class_names)\n",
        "\n",
        "print(f\"Train dataset: {len(train_dataset)} images\")\n",
        "print(f\"Test dataset: {len(test_dataset)} images\")\n",
        "print(f\"Validation dataset: {len(val_dataset)} images\")"
      ],
      "metadata": {
        "colab": {
          "base_uri": "https://localhost:8080/"
        },
        "id": "Xy9xz1E-VH3g",
        "outputId": "75464212-09a1-4ab7-c248-e563218c5f45"
      },
      "execution_count": 10,
      "outputs": [
        {
          "output_type": "stream",
          "name": "stdout",
          "text": [
            "Classes: ['Accident', 'Non Accident']\n",
            "Train dataset: 791 images\n",
            "Test dataset: 100 images\n",
            "Validation dataset: 98 images\n"
          ]
        }
      ]
    },
    {
      "cell_type": "code",
      "source": [
        "for images, labels in train_loader:\n",
        "    print(f\"Batch image shape: {images.shape}\")  # Should be [batch_size, channels, height, width]\n",
        "    break"
      ],
      "metadata": {
        "colab": {
          "base_uri": "https://localhost:8080/"
        },
        "id": "1qq5PP4YVH5m",
        "outputId": "cfdb3e0c-aaa1-4c9f-c5b0-1e1f4630c730"
      },
      "execution_count": 11,
      "outputs": [
        {
          "output_type": "stream",
          "name": "stdout",
          "text": [
            "Batch image shape: torch.Size([10, 3, 224, 224])\n"
          ]
        }
      ]
    },
    {
      "cell_type": "markdown",
      "source": [
        "# Model"
      ],
      "metadata": {
        "id": "p63EfhMdWcbn"
      }
    },
    {
      "cell_type": "code",
      "source": [
        "# Load the pre-trained MobileNetV2 model\n",
        "base_model = models.mobilenet_v2(weights='IMAGENET1K_V1')\n",
        "base_model.features = nn.Sequential(*list(base_model.features.children()))  # Extract features part of MobileNetV2\n",
        "base_model.classifier = nn.Identity()  # Remove the classifier (top) part of the model"
      ],
      "metadata": {
        "colab": {
          "base_uri": "https://localhost:8080/"
        },
        "id": "eI5vlbsYWS2b",
        "outputId": "bfffdc56-c0dd-453e-f505-87343c7dcdf7"
      },
      "execution_count": 12,
      "outputs": [
        {
          "output_type": "stream",
          "name": "stderr",
          "text": [
            "Downloading: \"https://download.pytorch.org/models/mobilenet_v2-b0353104.pth\" to /root/.cache/torch/hub/checkpoints/mobilenet_v2-b0353104.pth\n",
            "100%|██████████| 13.6M/13.6M [00:00<00:00, 45.4MB/s]\n"
          ]
        }
      ]
    },
    {
      "cell_type": "code",
      "source": [
        "# Freeze base model parameters\n",
        "for param in base_model.parameters():\n",
        "    param.requires_grad = False"
      ],
      "metadata": {
        "id": "bgCLA1uxWS4q"
      },
      "execution_count": 13,
      "outputs": []
    },
    {
      "cell_type": "code",
      "source": [
        "# Define the custom model by adding a classifier on top of the base model\n",
        "class CustomModel(nn.Module):\n",
        "    def __init__(self, base_model, num_classes):\n",
        "        super(CustomModel, self).__init__()\n",
        "        self.base_model = base_model\n",
        "        self.fc = nn.Linear(1280, num_classes)\n",
        "\n",
        "    def forward(self, x):\n",
        "        x = self.base_model(x)\n",
        "        x = self.fc(x)\n",
        "        return x\n"
      ],
      "metadata": {
        "id": "ueGYcTW7WS7e"
      },
      "execution_count": 14,
      "outputs": []
    },
    {
      "cell_type": "code",
      "source": [
        "model = CustomModel(base_model, num_classes).to(device)\n",
        "\n",
        "criterion = nn.CrossEntropyLoss()\n",
        "optimizer = optim.Adam(model.parameters(), lr=0.001)\n",
        "\n",
        "num_epochs = 50\n",
        "\n",
        "history = {'train_loss': [], 'train_accuracy': [], 'val_loss': [], 'val_accuracy': []}"
      ],
      "metadata": {
        "id": "f2TiFbvGWS9O"
      },
      "execution_count": 15,
      "outputs": []
    },
    {
      "cell_type": "code",
      "source": [
        "for epoch in range(num_epochs):\n",
        "    model.train()\n",
        "    running_loss = 0.0\n",
        "    correct = 0\n",
        "    total = 0\n",
        "\n",
        "    # Training phase\n",
        "    for inputs, labels in train_loader:\n",
        "        inputs, labels = inputs.to(device), labels.to(device)\n",
        "\n",
        "        # Zero the parameter gradients\n",
        "        optimizer.zero_grad()\n",
        "\n",
        "        # Forward pass\n",
        "        outputs = model(inputs)\n",
        "        loss = criterion(outputs, labels)\n",
        "\n",
        "        # Backward pass and optimize\n",
        "        loss.backward()\n",
        "        optimizer.step()\n",
        "\n",
        "        # Compute accuracy\n",
        "        _, predicted = torch.max(outputs.data, 1)\n",
        "        total += labels.size(0)\n",
        "        correct += (predicted == labels).sum().item()\n",
        "        running_loss += loss.item()\n",
        "\n",
        "    epoch_loss = running_loss / len(train_loader)\n",
        "    epoch_acc = 100 * correct / total\n",
        "\n",
        "    # Append to history\n",
        "    history['train_loss'].append(epoch_loss)\n",
        "    history['train_accuracy'].append(epoch_acc)\n",
        "\n",
        "    # Validation phase\n",
        "    model.eval()\n",
        "    val_running_loss = 0.0\n",
        "    val_correct = 0\n",
        "    val_total = 0\n",
        "\n",
        "    with torch.no_grad():\n",
        "        for inputs, labels in val_loader:\n",
        "            inputs, labels = inputs.to(device), labels.to(device)\n",
        "            outputs = model(inputs)\n",
        "            loss = criterion(outputs, labels)\n",
        "\n",
        "            # Compute accuracy\n",
        "            _, predicted = torch.max(outputs.data, 1)\n",
        "            val_total += labels.size(0)\n",
        "            val_correct += (predicted == labels).sum().item()\n",
        "            val_running_loss += loss.item()\n",
        "\n",
        "    val_epoch_loss = val_running_loss / len(val_loader)\n",
        "    val_epoch_acc = 100 * val_correct / val_total\n",
        "\n",
        "    # Append to history\n",
        "    history['val_loss'].append(val_epoch_loss)\n",
        "    history['val_accuracy'].append(val_epoch_acc)\n",
        "\n",
        "    print(f\"Epoch [{epoch + 1}/{num_epochs}], \"\n",
        "          f\"Train Loss: {epoch_loss:.4f}, Train Accuracy: {epoch_acc:.2f}%, \"\n",
        "          f\"Val Loss: {val_epoch_loss:.4f}, Val Accuracy: {val_epoch_acc:.2f}%\")"
      ],
      "metadata": {
        "colab": {
          "base_uri": "https://localhost:8080/"
        },
        "id": "h4tbfVDXWS_K",
        "outputId": "f35e4cc8-0e23-46bc-fb64-e0ba0bdaca45"
      },
      "execution_count": 16,
      "outputs": [
        {
          "output_type": "stream",
          "name": "stdout",
          "text": [
            "Epoch [1/50], Train Loss: 0.6780, Train Accuracy: 59.80%, Val Loss: 0.5493, Val Accuracy: 71.43%\n",
            "Epoch [2/50], Train Loss: 0.5724, Train Accuracy: 70.42%, Val Loss: 0.5721, Val Accuracy: 66.33%\n",
            "Epoch [3/50], Train Loss: 0.6418, Train Accuracy: 67.13%, Val Loss: 0.4661, Val Accuracy: 78.57%\n",
            "Epoch [4/50], Train Loss: 0.5455, Train Accuracy: 72.69%, Val Loss: 0.5594, Val Accuracy: 67.35%\n",
            "Epoch [5/50], Train Loss: 0.5272, Train Accuracy: 72.69%, Val Loss: 0.5371, Val Accuracy: 76.53%\n",
            "Epoch [6/50], Train Loss: 0.5101, Train Accuracy: 76.11%, Val Loss: 0.5093, Val Accuracy: 75.51%\n",
            "Epoch [7/50], Train Loss: 0.4440, Train Accuracy: 80.28%, Val Loss: 0.4008, Val Accuracy: 83.67%\n",
            "Epoch [8/50], Train Loss: 0.4533, Train Accuracy: 79.65%, Val Loss: 0.3906, Val Accuracy: 79.59%\n",
            "Epoch [9/50], Train Loss: 0.4905, Train Accuracy: 76.36%, Val Loss: 0.3927, Val Accuracy: 81.63%\n",
            "Epoch [10/50], Train Loss: 0.4500, Train Accuracy: 80.15%, Val Loss: 0.3852, Val Accuracy: 84.69%\n",
            "Epoch [11/50], Train Loss: 0.4428, Train Accuracy: 79.14%, Val Loss: 0.3698, Val Accuracy: 84.69%\n",
            "Epoch [12/50], Train Loss: 0.4515, Train Accuracy: 80.28%, Val Loss: 0.3872, Val Accuracy: 84.69%\n",
            "Epoch [13/50], Train Loss: 0.4458, Train Accuracy: 79.39%, Val Loss: 0.3404, Val Accuracy: 84.69%\n",
            "Epoch [14/50], Train Loss: 0.4115, Train Accuracy: 80.40%, Val Loss: 0.5294, Val Accuracy: 75.51%\n",
            "Epoch [15/50], Train Loss: 0.4138, Train Accuracy: 81.67%, Val Loss: 0.3482, Val Accuracy: 84.69%\n",
            "Epoch [16/50], Train Loss: 0.3872, Train Accuracy: 82.43%, Val Loss: 0.3344, Val Accuracy: 85.71%\n",
            "Epoch [17/50], Train Loss: 0.3726, Train Accuracy: 83.69%, Val Loss: 0.3125, Val Accuracy: 86.73%\n",
            "Epoch [18/50], Train Loss: 0.3851, Train Accuracy: 82.93%, Val Loss: 0.3580, Val Accuracy: 85.71%\n",
            "Epoch [19/50], Train Loss: 0.3737, Train Accuracy: 83.06%, Val Loss: 0.3336, Val Accuracy: 86.73%\n",
            "Epoch [20/50], Train Loss: 0.3730, Train Accuracy: 84.32%, Val Loss: 0.3219, Val Accuracy: 83.67%\n",
            "Epoch [21/50], Train Loss: 0.4061, Train Accuracy: 82.93%, Val Loss: 0.3181, Val Accuracy: 85.71%\n",
            "Epoch [22/50], Train Loss: 0.4064, Train Accuracy: 80.78%, Val Loss: 0.3993, Val Accuracy: 83.67%\n",
            "Epoch [23/50], Train Loss: 0.3946, Train Accuracy: 82.68%, Val Loss: 0.3389, Val Accuracy: 84.69%\n",
            "Epoch [24/50], Train Loss: 0.3622, Train Accuracy: 83.94%, Val Loss: 0.3038, Val Accuracy: 88.78%\n",
            "Epoch [25/50], Train Loss: 0.3579, Train Accuracy: 84.58%, Val Loss: 0.3129, Val Accuracy: 85.71%\n",
            "Epoch [26/50], Train Loss: 0.3821, Train Accuracy: 82.43%, Val Loss: 0.3253, Val Accuracy: 85.71%\n",
            "Epoch [27/50], Train Loss: 0.3544, Train Accuracy: 83.94%, Val Loss: 0.3297, Val Accuracy: 82.65%\n",
            "Epoch [28/50], Train Loss: 0.3403, Train Accuracy: 84.70%, Val Loss: 0.4240, Val Accuracy: 78.57%\n",
            "Epoch [29/50], Train Loss: 0.3436, Train Accuracy: 86.35%, Val Loss: 0.3121, Val Accuracy: 85.71%\n",
            "Epoch [30/50], Train Loss: 0.3352, Train Accuracy: 86.22%, Val Loss: 0.3070, Val Accuracy: 87.76%\n",
            "Epoch [31/50], Train Loss: 0.3454, Train Accuracy: 85.97%, Val Loss: 0.2919, Val Accuracy: 90.82%\n",
            "Epoch [32/50], Train Loss: 0.3315, Train Accuracy: 85.84%, Val Loss: 0.2762, Val Accuracy: 90.82%\n",
            "Epoch [33/50], Train Loss: 0.3331, Train Accuracy: 86.35%, Val Loss: 0.2822, Val Accuracy: 85.71%\n",
            "Epoch [34/50], Train Loss: 0.3654, Train Accuracy: 85.46%, Val Loss: 0.2717, Val Accuracy: 87.76%\n",
            "Epoch [35/50], Train Loss: 0.3289, Train Accuracy: 87.36%, Val Loss: 0.2955, Val Accuracy: 87.76%\n",
            "Epoch [36/50], Train Loss: 0.3436, Train Accuracy: 84.96%, Val Loss: 0.2973, Val Accuracy: 88.78%\n",
            "Epoch [37/50], Train Loss: 0.3388, Train Accuracy: 85.34%, Val Loss: 0.3260, Val Accuracy: 87.76%\n",
            "Epoch [38/50], Train Loss: 0.3088, Train Accuracy: 87.23%, Val Loss: 0.2842, Val Accuracy: 90.82%\n",
            "Epoch [39/50], Train Loss: 0.3357, Train Accuracy: 85.08%, Val Loss: 0.2985, Val Accuracy: 88.78%\n",
            "Epoch [40/50], Train Loss: 0.3471, Train Accuracy: 84.96%, Val Loss: 0.3167, Val Accuracy: 85.71%\n",
            "Epoch [41/50], Train Loss: 0.3242, Train Accuracy: 85.21%, Val Loss: 0.2877, Val Accuracy: 89.80%\n",
            "Epoch [42/50], Train Loss: 0.3355, Train Accuracy: 86.09%, Val Loss: 0.2830, Val Accuracy: 87.76%\n",
            "Epoch [43/50], Train Loss: 0.3523, Train Accuracy: 83.19%, Val Loss: 0.2844, Val Accuracy: 88.78%\n",
            "Epoch [44/50], Train Loss: 0.3389, Train Accuracy: 85.84%, Val Loss: 0.3593, Val Accuracy: 85.71%\n",
            "Epoch [45/50], Train Loss: 0.3251, Train Accuracy: 86.09%, Val Loss: 0.2880, Val Accuracy: 88.78%\n",
            "Epoch [46/50], Train Loss: 0.3626, Train Accuracy: 83.31%, Val Loss: 0.2901, Val Accuracy: 87.76%\n",
            "Epoch [47/50], Train Loss: 0.3010, Train Accuracy: 87.61%, Val Loss: 0.2983, Val Accuracy: 88.78%\n",
            "Epoch [48/50], Train Loss: 0.3508, Train Accuracy: 86.35%, Val Loss: 0.2620, Val Accuracy: 89.80%\n",
            "Epoch [49/50], Train Loss: 0.3056, Train Accuracy: 86.35%, Val Loss: 0.3153, Val Accuracy: 83.67%\n",
            "Epoch [50/50], Train Loss: 0.3194, Train Accuracy: 86.85%, Val Loss: 0.2845, Val Accuracy: 87.76%\n"
          ]
        }
      ]
    },
    {
      "cell_type": "markdown",
      "source": [
        "# Validation"
      ],
      "metadata": {
        "id": "6otqwT5JWt6c"
      }
    },
    {
      "cell_type": "code",
      "source": [
        "plt.figure(figsize=(12, 5))\n",
        "plt.subplot(1, 2, 1)\n",
        "plt.plot(history['train_loss'], label='Training Loss')\n",
        "plt.plot(history['val_loss'], label='Validation Loss')\n",
        "plt.title('Loss Over Epochs')\n",
        "plt.xlabel('Epoch')\n",
        "plt.ylabel('Loss')\n",
        "plt.grid(True)\n",
        "plt.legend()\n",
        "\n",
        "plt.subplot(1, 2, 2)\n",
        "plt.plot(history['train_accuracy'], label='Training Accuracy')\n",
        "plt.plot(history['val_accuracy'], label='Validation Accuracy')\n",
        "plt.title('Accuracy Over Epochs')\n",
        "plt.xlabel('Epoch')\n",
        "plt.ylabel('Accuracy (%)')\n",
        "plt.grid(True)\n",
        "plt.legend()\n",
        "\n",
        "plt.show()"
      ],
      "metadata": {
        "colab": {
          "base_uri": "https://localhost:8080/",
          "height": 487
        },
        "id": "Vwrxe3lSWTAk",
        "outputId": "70114f5e-f674-4c62-c63a-18997e4a9592"
      },
      "execution_count": 17,
      "outputs": [
        {
          "output_type": "display_data",
          "data": {
            "text/plain": [
              "<Figure size 1200x500 with 2 Axes>"
            ],
            "image/png": "[encoded data removed]"
          },
          "metadata": {}
        }
      ]
    },
    {
      "cell_type": "markdown",
      "source": [
        "# Dataset construction"
      ],
      "metadata": {
        "id": "dkwaxMlIWwh_"
      }
    },
    {
      "cell_type": "code",
      "source": [
        "model.eval()\n",
        "\n",
        "# Transformation for input images\n",
        "transform = transforms.Compose([\n",
        "    transforms.ToPILImage(),\n",
        "    transforms.Resize((img_height, img_width)),\n",
        "    transforms.ToTensor(),\n",
        "])\n",
        "\n",
        "def process_video(video_path, model, frame_interval=1):\n",
        "    # process vidoe frame by frame and predict accident\n",
        "    cap = cv2.VideoCapture(video_path)\n",
        "    frame_count = 0\n",
        "    frame_labels = []\n",
        "\n",
        "    while cap.isOpened():\n",
        "        ret, frame = cap.read()\n",
        "        if not ret:\n",
        "            break\n",
        "\n",
        "        if frame_count % frame_interval == 0:\n",
        "            # Predict on the frame\n",
        "            img_tensor = transform(frame).unsqueeze(0).to(device)\n",
        "            with torch.no_grad():\n",
        "                outputs = model(img_tensor)\n",
        "                probabilities = torch.softmax(outputs, dim=1)\n",
        "                predicted_class = torch.argmax(probabilities, dim=1).item()\n",
        "            frame_labels.append(predicted_class)  # 0: Accident, 1: No Accident\n",
        "\n",
        "        frame_count += 1\n",
        "\n",
        "    cap.release()\n",
        "    return frame_labels"
      ],
      "metadata": {
        "id": "pOS7mzcyVH8I"
      },
      "execution_count": 18,
      "outputs": []
    },
    {
      "cell_type": "code",
      "source": [
        "def adjust_labels(frame_labels, shift=5):\n",
        "    # Logic behind, shift the ‘Accident’ labels backward to preceding frames\n",
        "    # As we want to identify crash before it happens\n",
        "    adjusted_labels = frame_labels.copy()\n",
        "    for i in range(len(frame_labels)):\n",
        "        if frame_labels[i] == 0:  # Accident detected\n",
        "            start = max(0, i - shift)\n",
        "            for j in range(start, i):\n",
        "                adjusted_labels[j] = 0  # Mark previous frames as 'Accident'\n",
        "    return adjusted_labels"
      ],
      "metadata": {
        "id": "k8wBYwjkWzlP"
      },
      "execution_count": 19,
      "outputs": []
    },
    {
      "cell_type": "code",
      "source": [
        "def save_sequences(video_path, adjusted_labels, sequence_length, save_dir, video_name, slide_step=10):\n",
        "    \"\"\"\n",
        "    Organizes frames from a video into sequences and saves them along with labels.\n",
        "\n",
        "    Parameters:\n",
        "        video_path (str): Path to the input video file.\n",
        "        adjusted_labels (list or array): Labels corresponding to each frame in the video.\n",
        "        sequence_length (int): Number of consecutive frames in each sequence.\n",
        "        save_dir (str): Directory where the sequences will be saved.\n",
        "        video_name (str): Base name for the video, used in naming saved sequence files.\n",
        "        slide_step (int, optional): Number of frames to move the window each step. Default is 10.\n",
        "    \"\"\"\n",
        "\n",
        "    # Ensure the save directory exists\n",
        "    os.makedirs(save_dir, exist_ok=True)\n",
        "\n",
        "    # Initialize video capture\n",
        "    cap = cv2.VideoCapture(video_path)\n",
        "    frames = []\n",
        "\n",
        "    frame_count = 0\n",
        "    seq_id = 0\n",
        "\n",
        "    while cap.isOpened():\n",
        "        ret, frame = cap.read()\n",
        "        if not ret:\n",
        "            break  # Exit the loop if no more frames are available\n",
        "\n",
        "        frames.append(frame)\n",
        "        frame_count += 1\n",
        "\n",
        "        # Check if enough frames have been collected for a sequence\n",
        "        if len(frames) == sequence_length:\n",
        "            # Determine the label for the current sequence\n",
        "            # Default label is 'No Accident' (1)\n",
        "            seq_label = 1\n",
        "\n",
        "            # Extract labels corresponding to the current sequence\n",
        "            seq_frame_labels = adjusted_labels[frame_count - sequence_length:frame_count]\n",
        "\n",
        "            # If any frame in the sequence has a label of '0', label the entire sequence as 'Impending Accident' (0)\n",
        "            if 0 in seq_frame_labels:\n",
        "                seq_label = 0\n",
        "\n",
        "            # Convert the list of frames to a NumPy array for efficient storage\n",
        "            sequence = np.array(frames)\n",
        "\n",
        "            # Construct the filename with video name, sequence ID, and label\n",
        "            seq_filename = f\"{video_name}_seq_{seq_id}_label_{seq_label}.npy\"\n",
        "\n",
        "            # Save the sequence as a .npy file\n",
        "            np.save(os.path.join(save_dir, seq_filename), sequence)\n",
        "\n",
        "            # Increment the sequence ID for the next sequence\n",
        "            seq_id += 1\n",
        "\n",
        "            # Slide the window by 'slide_step' frames\n",
        "            # This removes the first 'slide_step' frames from the current window\n",
        "            frames = frames[slide_step:]\n",
        "\n",
        "    # Release the video capture object\n",
        "    cap.release()"
      ],
      "metadata": {
        "id": "YkHzCKshWzno"
      },
      "execution_count": 20,
      "outputs": []
    },
    {
      "cell_type": "markdown",
      "source": [
        "### Process video together"
      ],
      "metadata": {
        "id": "ivQaS936aIMp"
      }
    },
    {
      "cell_type": "code",
      "source": [
        "video_dir = '/content/dataset/videos'\n",
        "save_dir = '/content/processed_sequences'\n",
        "os.makedirs(save_dir, exist_ok=True)\n",
        "\n",
        "video_files = [f for f in os.listdir(video_dir) if f.endswith('.mp4')]\n",
        "\n",
        "for video_file in video_files:\n",
        "    video_path = os.path.join(video_dir, video_file)\n",
        "    print(f\"Processing {video_file}\")\n",
        "\n",
        "    # Get frame labels using the model\n",
        "    frame_labels = process_video(video_path, model)\n",
        "\n",
        "    # Adjust labels to shift 'Accident' labels backward\n",
        "    adjusted_labels = adjust_labels(frame_labels, shift=5)\n",
        "\n",
        "    # Save sequences\n",
        "    save_sequences(video_path, adjusted_labels, sequence_length=16, save_dir=save_dir, video_name=video_file[:-4])"
      ],
      "metadata": {
        "colab": {
          "base_uri": "https://localhost:8080/"
        },
        "id": "L-xaSDuNWzp7",
        "outputId": "14493805-8a98-4c7c-f4b2-e77cdd7c6543"
      },
      "execution_count": 21,
      "outputs": [
        {
          "output_type": "stream",
          "name": "stdout",
          "text": [
            "Processing videoplayback (online-video-cutter.com).mp4\n"
          ]
        }
      ]
    },
    {
      "cell_type": "code",
      "source": [
        "!zip -r /content/processed_sequences.zip /content/processed_sequences"
      ],
      "metadata": {
        "colab": {
          "base_uri": "https://localhost:8080/"
        },
        "id": "CKVxQEKHWzsj",
        "outputId": "a113f895-f45f-4874-cec9-a5386edea255"
      },
      "execution_count": 22,
      "outputs": [
        {
          "output_type": "stream",
          "name": "stdout",
          "text": [
            "  adding: content/processed_sequences/ (stored 0%)\n",
            "  adding: content/processed_sequences/videoplayback (online-video-cutter.com)_seq_7_label_0.npy (deflated 50%)\n",
            "  adding: content/processed_sequences/videoplayback (online-video-cutter.com)_seq_14_label_0.npy (deflated 46%)\n",
            "  adding: content/processed_sequences/videoplayback (online-video-cutter.com)_seq_189_label_1.npy (deflated 61%)\n",
            "  adding: content/processed_sequences/videoplayback (online-video-cutter.com)_seq_159_label_0.npy (deflated 51%)\n",
            "  adding: content/processed_sequences/videoplayback (online-video-cutter.com)_seq_9_label_0.npy (deflated 49%)\n",
            "  adding: content/processed_sequences/videoplayback (online-video-cutter.com)_seq_192_label_1.npy (deflated 59%)\n",
            "  adding: content/processed_sequences/videoplayback (online-video-cutter.com)_seq_170_label_0.npy (deflated 49%)\n",
            "  adding: content/processed_sequences/videoplayback (online-video-cutter.com)_seq_127_label_0.npy (deflated 52%)\n",
            "  adding: content/processed_sequences/videoplayback (online-video-cutter.com)_seq_175_label_1.npy (deflated 66%)\n",
            "  adding: content/processed_sequences/videoplayback (online-video-cutter.com)_seq_104_label_0.npy (deflated 44%)\n",
            "  adding: content/processed_sequences/videoplayback (online-video-cutter.com)_seq_150_label_0.npy (deflated 49%)\n",
            "  adding: content/processed_sequences/videoplayback (online-video-cutter.com)_seq_79_label_0.npy (deflated 49%)\n",
            "  adding: content/processed_sequences/videoplayback (online-video-cutter.com)_seq_193_label_1.npy (deflated 59%)\n",
            "  adding: content/processed_sequences/videoplayback (online-video-cutter.com)_seq_227_label_0.npy (deflated 50%)\n",
            "  adding: content/processed_sequences/videoplayback (online-video-cutter.com)_seq_123_label_0.npy (deflated 52%)\n",
            "  adding: content/processed_sequences/videoplayback (online-video-cutter.com)_seq_143_label_0.npy (deflated 52%)\n",
            "  adding: content/processed_sequences/videoplayback (online-video-cutter.com)_seq_183_label_1.npy (deflated 62%)\n",
            "  adding: content/processed_sequences/videoplayback (online-video-cutter.com)_seq_187_label_1.npy (deflated 62%)\n",
            "  adding: content/processed_sequences/videoplayback (online-video-cutter.com)_seq_3_label_1.npy (deflated 49%)\n",
            "  adding: content/processed_sequences/videoplayback (online-video-cutter.com)_seq_89_label_1.npy (deflated 52%)\n",
            "  adding: content/processed_sequences/videoplayback (online-video-cutter.com)_seq_41_label_1.npy (deflated 36%)\n",
            "  adding: content/processed_sequences/videoplayback (online-video-cutter.com)_seq_29_label_1.npy (deflated 43%)\n",
            "  adding: content/processed_sequences/videoplayback (online-video-cutter.com)_seq_151_label_0.npy (deflated 50%)\n",
            "  adding: content/processed_sequences/videoplayback (online-video-cutter.com)_seq_107_label_0.npy (deflated 43%)\n",
            "  adding: content/processed_sequences/videoplayback (online-video-cutter.com)_seq_62_label_1.npy (deflated 55%)\n",
            "  adding: content/processed_sequences/videoplayback (online-video-cutter.com)_seq_99_label_0.npy (deflated 60%)\n",
            "  adding: content/processed_sequences/videoplayback (online-video-cutter.com)_seq_141_label_1.npy (deflated 53%)\n",
            "  adding: content/processed_sequences/videoplayback (online-video-cutter.com)_seq_179_label_1.npy (deflated 64%)\n",
            "  adding: content/processed_sequences/videoplayback (online-video-cutter.com)_seq_199_label_0.npy (deflated 58%)\n",
            "  adding: content/processed_sequences/videoplayback (online-video-cutter.com)_seq_180_label_1.npy (deflated 64%)\n",
            "  adding: content/processed_sequences/videoplayback (online-video-cutter.com)_seq_186_label_0.npy (deflated 62%)\n",
            "  adding: content/processed_sequences/videoplayback (online-video-cutter.com)_seq_172_label_0.npy (deflated 49%)\n",
            "  adding: content/processed_sequences/videoplayback (online-video-cutter.com)_seq_68_label_1.npy (deflated 52%)\n",
            "  adding: content/processed_sequences/videoplayback (online-video-cutter.com)_seq_30_label_1.npy (deflated 42%)\n",
            "  adding: content/processed_sequences/videoplayback (online-video-cutter.com)_seq_74_label_1.npy (deflated 51%)\n",
            "  adding: content/processed_sequences/videoplayback (online-video-cutter.com)_seq_130_label_0.npy (deflated 54%)\n",
            "  adding: content/processed_sequences/videoplayback (online-video-cutter.com)_seq_169_label_0.npy (deflated 49%)\n",
            "  adding: content/processed_sequences/videoplayback (online-video-cutter.com)_seq_36_label_0.npy (deflated 36%)\n",
            "  adding: content/processed_sequences/videoplayback (online-video-cutter.com)_seq_125_label_0.npy (deflated 50%)\n",
            "  adding: content/processed_sequences/videoplayback (online-video-cutter.com)_seq_97_label_0.npy (deflated 59%)\n",
            "  adding: content/processed_sequences/videoplayback (online-video-cutter.com)_seq_91_label_1.npy (deflated 51%)\n",
            "  adding: content/processed_sequences/videoplayback (online-video-cutter.com)_seq_10_label_0.npy (deflated 48%)\n",
            "  adding: content/processed_sequences/videoplayback (online-video-cutter.com)_seq_20_label_0.npy (deflated 43%)\n",
            "  adding: content/processed_sequences/videoplayback (online-video-cutter.com)_seq_118_label_0.npy (deflated 57%)\n",
            "  adding: content/processed_sequences/videoplayback (online-video-cutter.com)_seq_60_label_1.npy (deflated 35%)\n",
            "  adding: content/processed_sequences/videoplayback (online-video-cutter.com)_seq_17_label_0.npy (deflated 44%)\n",
            "  adding: content/processed_sequences/videoplayback (online-video-cutter.com)_seq_19_label_0.npy (deflated 43%)\n",
            "  adding: content/processed_sequences/videoplayback (online-video-cutter.com)_seq_39_label_1.npy (deflated 37%)\n",
            "  adding: content/processed_sequences/videoplayback (online-video-cutter.com)_seq_48_label_1.npy (deflated 34%)\n",
            "  adding: content/processed_sequences/videoplayback (online-video-cutter.com)_seq_37_label_0.npy (deflated 35%)\n",
            "  adding: content/processed_sequences/videoplayback (online-video-cutter.com)_seq_83_label_0.npy (deflated 49%)\n",
            "  adding: content/processed_sequences/videoplayback (online-video-cutter.com)_seq_71_label_0.npy (deflated 49%)\n",
            "  adding: content/processed_sequences/videoplayback (online-video-cutter.com)_seq_124_label_0.npy (deflated 51%)\n",
            "  adding: content/processed_sequences/videoplayback (online-video-cutter.com)_seq_121_label_0.npy (deflated 54%)\n",
            "  adding: content/processed_sequences/videoplayback (online-video-cutter.com)_seq_111_label_0.npy (deflated 42%)\n",
            "  adding: content/processed_sequences/videoplayback (online-video-cutter.com)_seq_13_label_0.npy (deflated 46%)\n",
            "  adding: content/processed_sequences/videoplayback (online-video-cutter.com)_seq_115_label_1.npy (deflated 63%)\n",
            "  adding: content/processed_sequences/videoplayback (online-video-cutter.com)_seq_109_label_0.npy (deflated 43%)\n",
            "  adding: content/processed_sequences/videoplayback (online-video-cutter.com)_seq_162_label_0.npy (deflated 50%)\n",
            "  adding: content/processed_sequences/videoplayback (online-video-cutter.com)_seq_28_label_1.npy (deflated 46%)\n",
            "  adding: content/processed_sequences/videoplayback (online-video-cutter.com)_seq_200_label_0.npy (deflated 55%)\n",
            "  adding: content/processed_sequences/videoplayback (online-video-cutter.com)_seq_85_label_1.npy (deflated 49%)\n",
            "  adding: content/processed_sequences/videoplayback (online-video-cutter.com)_seq_219_label_0.npy (deflated 48%)\n",
            "  adding: content/processed_sequences/videoplayback (online-video-cutter.com)_seq_225_label_0.npy (deflated 52%)\n",
            "  adding: content/processed_sequences/videoplayback (online-video-cutter.com)_seq_215_label_0.npy (deflated 48%)\n",
            "  adding: content/processed_sequences/videoplayback (online-video-cutter.com)_seq_214_label_0.npy (deflated 49%)\n",
            "  adding: content/processed_sequences/videoplayback (online-video-cutter.com)_seq_177_label_1.npy (deflated 65%)\n",
            "  adding: content/processed_sequences/videoplayback (online-video-cutter.com)_seq_53_label_1.npy (deflated 36%)\n",
            "  adding: content/processed_sequences/videoplayback (online-video-cutter.com)_seq_144_label_0.npy (deflated 51%)\n",
            "  adding: content/processed_sequences/videoplayback (online-video-cutter.com)_seq_149_label_0.npy (deflated 49%)\n",
            "  adding: content/processed_sequences/videoplayback (online-video-cutter.com)_seq_94_label_0.npy (deflated 50%)\n",
            "  adding: content/processed_sequences/videoplayback (online-video-cutter.com)_seq_137_label_0.npy (deflated 51%)\n",
            "  adding: content/processed_sequences/videoplayback (online-video-cutter.com)_seq_217_label_0.npy (deflated 47%)\n",
            "  adding: content/processed_sequences/videoplayback (online-video-cutter.com)_seq_12_label_0.npy (deflated 46%)\n",
            "  adding: content/processed_sequences/videoplayback (online-video-cutter.com)_seq_207_label_1.npy (deflated 52%)\n",
            "  adding: content/processed_sequences/videoplayback (online-video-cutter.com)_seq_81_label_0.npy (deflated 50%)\n",
            "  adding: content/processed_sequences/videoplayback (online-video-cutter.com)_seq_52_label_1.npy (deflated 38%)\n",
            "  adding: content/processed_sequences/videoplayback (online-video-cutter.com)_seq_95_label_1.npy (deflated 50%)\n",
            "  adding: content/processed_sequences/videoplayback (online-video-cutter.com)_seq_78_label_0.npy (deflated 49%)\n",
            "  adding: content/processed_sequences/videoplayback (online-video-cutter.com)_seq_69_label_0.npy (deflated 49%)\n",
            "  adding: content/processed_sequences/videoplayback (online-video-cutter.com)_seq_140_label_1.npy (deflated 54%)\n",
            "  adding: content/processed_sequences/videoplayback (online-video-cutter.com)_seq_35_label_1.npy (deflated 38%)\n",
            "  adding: content/processed_sequences/videoplayback (online-video-cutter.com)_seq_116_label_0.npy (deflated 61%)\n",
            "  adding: content/processed_sequences/videoplayback (online-video-cutter.com)_seq_15_label_0.npy (deflated 45%)\n",
            "  adding: content/processed_sequences/videoplayback (online-video-cutter.com)_seq_67_label_1.npy (deflated 53%)\n",
            "  adding: content/processed_sequences/videoplayback (online-video-cutter.com)_seq_8_label_0.npy (deflated 49%)\n",
            "  adding: content/processed_sequences/videoplayback (online-video-cutter.com)_seq_27_label_1.npy (deflated 48%)\n",
            "  adding: content/processed_sequences/videoplayback (online-video-cutter.com)_seq_70_label_0.npy (deflated 47%)\n",
            "  adding: content/processed_sequences/videoplayback (online-video-cutter.com)_seq_226_label_0.npy (deflated 52%)\n",
            "  adding: content/processed_sequences/videoplayback (online-video-cutter.com)_seq_131_label_0.npy (deflated 53%)\n",
            "  adding: content/processed_sequences/videoplayback (online-video-cutter.com)_seq_88_label_1.npy (deflated 52%)\n",
            "  adding: content/processed_sequences/videoplayback (online-video-cutter.com)_seq_25_label_0.npy (deflated 52%)\n",
            "  adding: content/processed_sequences/videoplayback (online-video-cutter.com)_seq_129_label_0.npy (deflated 54%)\n",
            "  adding: content/processed_sequences/videoplayback (online-video-cutter.com)_seq_0_label_1.npy (deflated 53%)\n",
            "  adding: content/processed_sequences/videoplayback (online-video-cutter.com)_seq_59_label_1.npy (deflated 35%)\n",
            "  adding: content/processed_sequences/videoplayback (online-video-cutter.com)_seq_132_label_0.npy (deflated 53%)\n",
            "  adding: content/processed_sequences/videoplayback (online-video-cutter.com)_seq_92_label_1.npy (deflated 51%)\n",
            "  adding: content/processed_sequences/videoplayback (online-video-cutter.com)_seq_203_label_0.npy (deflated 52%)\n",
            "  adding: content/processed_sequences/videoplayback (online-video-cutter.com)_seq_171_label_0.npy (deflated 49%)\n",
            "  adding: content/processed_sequences/videoplayback (online-video-cutter.com)_seq_145_label_0.npy (deflated 51%)\n",
            "  adding: content/processed_sequences/videoplayback (online-video-cutter.com)_seq_73_label_1.npy (deflated 51%)\n",
            "  adding: content/processed_sequences/videoplayback (online-video-cutter.com)_seq_56_label_1.npy (deflated 36%)\n",
            "  adding: content/processed_sequences/videoplayback (online-video-cutter.com)_seq_61_label_1.npy (deflated 44%)\n",
            "  adding: content/processed_sequences/videoplayback (online-video-cutter.com)_seq_176_label_1.npy (deflated 66%)\n",
            "  adding: content/processed_sequences/videoplayback (online-video-cutter.com)_seq_178_label_1.npy (deflated 64%)\n",
            "  adding: content/processed_sequences/videoplayback (online-video-cutter.com)_seq_58_label_1.npy (deflated 35%)\n",
            "  adding: content/processed_sequences/videoplayback (online-video-cutter.com)_seq_76_label_0.npy (deflated 50%)\n",
            "  adding: content/processed_sequences/videoplayback (online-video-cutter.com)_seq_181_label_1.npy (deflated 64%)\n",
            "  adding: content/processed_sequences/videoplayback (online-video-cutter.com)_seq_168_label_0.npy (deflated 49%)\n",
            "  adding: content/processed_sequences/videoplayback (online-video-cutter.com)_seq_63_label_1.npy (deflated 54%)\n",
            "  adding: content/processed_sequences/videoplayback (online-video-cutter.com)_seq_210_label_0.npy (deflated 50%)\n",
            "  adding: content/processed_sequences/videoplayback (online-video-cutter.com)_seq_185_label_0.npy (deflated 62%)\n",
            "  adding: content/processed_sequences/videoplayback (online-video-cutter.com)_seq_24_label_0.npy (deflated 46%)\n",
            "  adding: content/processed_sequences/videoplayback (online-video-cutter.com)_seq_195_label_1.npy (deflated 58%)\n",
            "  adding: content/processed_sequences/videoplayback (online-video-cutter.com)_seq_103_label_0.npy (deflated 44%)\n",
            "  adding: content/processed_sequences/videoplayback (online-video-cutter.com)_seq_66_label_1.npy (deflated 53%)\n",
            "  adding: content/processed_sequences/videoplayback (online-video-cutter.com)_seq_161_label_0.npy (deflated 50%)\n",
            "  adding: content/processed_sequences/videoplayback (online-video-cutter.com)_seq_211_label_0.npy (deflated 48%)\n",
            "  adding: content/processed_sequences/videoplayback (online-video-cutter.com)_seq_102_label_0.npy (deflated 43%)\n",
            "  adding: content/processed_sequences/videoplayback (online-video-cutter.com)_seq_55_label_1.npy (deflated 35%)\n",
            "  adding: content/processed_sequences/videoplayback (online-video-cutter.com)_seq_216_label_0.npy (deflated 47%)\n",
            "  adding: content/processed_sequences/videoplayback (online-video-cutter.com)_seq_209_label_0.npy (deflated 51%)\n",
            "  adding: content/processed_sequences/videoplayback (online-video-cutter.com)_seq_120_label_0.npy (deflated 55%)\n",
            "  adding: content/processed_sequences/videoplayback (online-video-cutter.com)_seq_45_label_1.npy (deflated 36%)\n",
            "  adding: content/processed_sequences/videoplayback (online-video-cutter.com)_seq_153_label_0.npy (deflated 53%)\n",
            "  adding: content/processed_sequences/videoplayback (online-video-cutter.com)_seq_4_label_0.npy (deflated 49%)\n",
            "  adding: content/processed_sequences/videoplayback (online-video-cutter.com)_seq_46_label_1.npy (deflated 35%)\n",
            "  adding: content/processed_sequences/videoplayback (online-video-cutter.com)_seq_98_label_0.npy (deflated 78%)\n",
            "  adding: content/processed_sequences/videoplayback (online-video-cutter.com)_seq_72_label_1.npy (deflated 50%)\n",
            "  adding: content/processed_sequences/videoplayback (online-video-cutter.com)_seq_201_label_0.npy (deflated 51%)\n",
            "  adding: content/processed_sequences/videoplayback (online-video-cutter.com)_seq_5_label_0.npy (deflated 49%)\n",
            "  adding: content/processed_sequences/videoplayback (online-video-cutter.com)_seq_134_label_0.npy (deflated 53%)\n",
            "  adding: content/processed_sequences/videoplayback (online-video-cutter.com)_seq_212_label_0.npy (deflated 48%)\n",
            "  adding: content/processed_sequences/videoplayback (online-video-cutter.com)_seq_93_label_0.npy (deflated 51%)\n",
            "  adding: content/processed_sequences/videoplayback (online-video-cutter.com)_seq_157_label_0.npy (deflated 50%)\n",
            "  adding: content/processed_sequences/videoplayback (online-video-cutter.com)_seq_204_label_0.npy (deflated 53%)\n",
            "  adding: content/processed_sequences/videoplayback (online-video-cutter.com)_seq_163_label_0.npy (deflated 51%)\n",
            "  adding: content/processed_sequences/videoplayback (online-video-cutter.com)_seq_142_label_1.npy (deflated 53%)\n",
            "  adding: content/processed_sequences/videoplayback (online-video-cutter.com)_seq_22_label_0.npy (deflated 43%)\n",
            "  adding: content/processed_sequences/videoplayback (online-video-cutter.com)_seq_197_label_0.npy (deflated 59%)\n",
            "  adding: content/processed_sequences/videoplayback (online-video-cutter.com)_seq_16_label_0.npy (deflated 45%)\n",
            "  adding: content/processed_sequences/videoplayback (online-video-cutter.com)_seq_191_label_1.npy (deflated 60%)\n",
            "  adding: content/processed_sequences/videoplayback (online-video-cutter.com)_seq_33_label_1.npy (deflated 40%)\n",
            "  adding: content/processed_sequences/videoplayback (online-video-cutter.com)_seq_23_label_0.npy (deflated 43%)\n",
            "  adding: content/processed_sequences/videoplayback (online-video-cutter.com)_seq_138_label_0.npy (deflated 52%)\n",
            "  adding: content/processed_sequences/videoplayback (online-video-cutter.com)_seq_167_label_0.npy (deflated 49%)\n",
            "  adding: content/processed_sequences/videoplayback (online-video-cutter.com)_seq_40_label_1.npy (deflated 36%)\n",
            "  adding: content/processed_sequences/videoplayback (online-video-cutter.com)_seq_64_label_1.npy (deflated 54%)\n",
            "  adding: content/processed_sequences/videoplayback (online-video-cutter.com)_seq_101_label_0.npy (deflated 44%)\n",
            "  adding: content/processed_sequences/videoplayback (online-video-cutter.com)_seq_11_label_0.npy (deflated 46%)\n",
            "  adding: content/processed_sequences/videoplayback (online-video-cutter.com)_seq_221_label_0.npy (deflated 49%)\n",
            "  adding: content/processed_sequences/videoplayback (online-video-cutter.com)_seq_198_label_0.npy (deflated 59%)\n",
            "  adding: content/processed_sequences/videoplayback (online-video-cutter.com)_seq_50_label_1.npy (deflated 42%)\n",
            "  adding: content/processed_sequences/videoplayback (online-video-cutter.com)_seq_190_label_1.npy (deflated 60%)\n",
            "  adding: content/processed_sequences/videoplayback (online-video-cutter.com)_seq_133_label_0.npy (deflated 53%)\n",
            "  adding: content/processed_sequences/videoplayback (online-video-cutter.com)_seq_166_label_0.npy (deflated 50%)\n",
            "  adding: content/processed_sequences/videoplayback (online-video-cutter.com)_seq_113_label_0.npy (deflated 48%)\n",
            "  adding: content/processed_sequences/videoplayback (online-video-cutter.com)_seq_155_label_0.npy (deflated 51%)\n",
            "  adding: content/processed_sequences/videoplayback (online-video-cutter.com)_seq_49_label_1.npy (deflated 37%)\n",
            "  adding: content/processed_sequences/videoplayback (online-video-cutter.com)_seq_32_label_1.npy (deflated 41%)\n",
            "  adding: content/processed_sequences/videoplayback (online-video-cutter.com)_seq_152_label_0.npy (deflated 51%)\n",
            "  adding: content/processed_sequences/videoplayback (online-video-cutter.com)_seq_122_label_0.npy (deflated 53%)\n",
            "  adding: content/processed_sequences/videoplayback (online-video-cutter.com)_seq_194_label_1.npy (deflated 59%)\n",
            "  adding: content/processed_sequences/videoplayback (online-video-cutter.com)_seq_139_label_0.npy (deflated 55%)\n",
            "  adding: content/processed_sequences/videoplayback (online-video-cutter.com)_seq_105_label_0.npy (deflated 43%)\n",
            "  adding: content/processed_sequences/videoplayback (online-video-cutter.com)_seq_90_label_1.npy (deflated 52%)\n",
            "  adding: content/processed_sequences/videoplayback (online-video-cutter.com)_seq_77_label_0.npy (deflated 49%)\n",
            "  adding: content/processed_sequences/videoplayback (online-video-cutter.com)_seq_96_label_0.npy (deflated 50%)\n",
            "  adding: content/processed_sequences/videoplayback (online-video-cutter.com)_seq_21_label_0.npy (deflated 43%)\n",
            "  adding: content/processed_sequences/videoplayback (online-video-cutter.com)_seq_2_label_1.npy (deflated 50%)\n",
            "  adding: content/processed_sequences/videoplayback (online-video-cutter.com)_seq_26_label_1.npy (deflated 51%)\n",
            "  adding: content/processed_sequences/videoplayback (online-video-cutter.com)_seq_213_label_0.npy (deflated 49%)\n",
            "  adding: content/processed_sequences/videoplayback (online-video-cutter.com)_seq_6_label_0.npy (deflated 50%)\n",
            "  adding: content/processed_sequences/videoplayback (online-video-cutter.com)_seq_164_label_0.npy (deflated 54%)\n",
            "  adding: content/processed_sequences/videoplayback (online-video-cutter.com)_seq_117_label_0.npy (deflated 58%)\n",
            "  adding: content/processed_sequences/videoplayback (online-video-cutter.com)_seq_38_label_0.npy (deflated 37%)\n",
            "  adding: content/processed_sequences/videoplayback (online-video-cutter.com)_seq_57_label_1.npy (deflated 35%)\n",
            "  adding: content/processed_sequences/videoplayback (online-video-cutter.com)_seq_196_label_1.npy (deflated 58%)\n",
            "  adding: content/processed_sequences/videoplayback (online-video-cutter.com)_seq_1_label_1.npy (deflated 51%)\n",
            "  adding: content/processed_sequences/videoplayback (online-video-cutter.com)_seq_228_label_0.npy (deflated 48%)\n",
            "  adding: content/processed_sequences/videoplayback (online-video-cutter.com)_seq_100_label_0.npy (deflated 46%)\n",
            "  adding: content/processed_sequences/videoplayback (online-video-cutter.com)_seq_146_label_0.npy (deflated 51%)\n",
            "  adding: content/processed_sequences/videoplayback (online-video-cutter.com)_seq_206_label_0.npy (deflated 54%)\n",
            "  adding: content/processed_sequences/videoplayback (online-video-cutter.com)_seq_208_label_0.npy (deflated 51%)\n",
            "  adding: content/processed_sequences/videoplayback (online-video-cutter.com)_seq_154_label_0.npy (deflated 52%)\n",
            "  adding: content/processed_sequences/videoplayback (online-video-cutter.com)_seq_44_label_1.npy (deflated 36%)\n",
            "  adding: content/processed_sequences/videoplayback (online-video-cutter.com)_seq_86_label_1.npy (deflated 50%)\n",
            "  adding: content/processed_sequences/videoplayback (online-video-cutter.com)_seq_224_label_0.npy (deflated 52%)\n",
            "  adding: content/processed_sequences/videoplayback (online-video-cutter.com)_seq_184_label_0.npy (deflated 61%)\n",
            "  adding: content/processed_sequences/videoplayback (online-video-cutter.com)_seq_108_label_0.npy (deflated 43%)\n",
            "  adding: content/processed_sequences/videoplayback (online-video-cutter.com)_seq_220_label_0.npy (deflated 49%)\n",
            "  adding: content/processed_sequences/videoplayback (online-video-cutter.com)_seq_148_label_0.npy (deflated 50%)\n",
            "  adding: content/processed_sequences/videoplayback (online-video-cutter.com)_seq_182_label_1.npy (deflated 64%)\n",
            "  adding: content/processed_sequences/videoplayback (online-video-cutter.com)_seq_75_label_0.npy (deflated 51%)\n",
            "  adding: content/processed_sequences/videoplayback (online-video-cutter.com)_seq_135_label_0.npy (deflated 51%)\n",
            "  adding: content/processed_sequences/videoplayback (online-video-cutter.com)_seq_42_label_1.npy (deflated 36%)\n",
            "  adding: content/processed_sequences/videoplayback (online-video-cutter.com)_seq_31_label_1.npy (deflated 42%)\n",
            "  adding: content/processed_sequences/videoplayback (online-video-cutter.com)_seq_218_label_0.npy (deflated 48%)\n",
            "  adding: content/processed_sequences/videoplayback (online-video-cutter.com)_seq_174_label_0.npy (deflated 65%)\n",
            "  adding: content/processed_sequences/videoplayback (online-video-cutter.com)_seq_114_label_0.npy (deflated 63%)\n",
            "  adding: content/processed_sequences/videoplayback (online-video-cutter.com)_seq_156_label_0.npy (deflated 51%)\n",
            "  adding: content/processed_sequences/videoplayback (online-video-cutter.com)_seq_223_label_0.npy (deflated 52%)\n",
            "  adding: content/processed_sequences/videoplayback (online-video-cutter.com)_seq_222_label_0.npy (deflated 50%)\n",
            "  adding: content/processed_sequences/videoplayback (online-video-cutter.com)_seq_47_label_1.npy (deflated 35%)\n",
            "  adding: content/processed_sequences/videoplayback (online-video-cutter.com)_seq_18_label_0.npy (deflated 43%)\n",
            "  adding: content/processed_sequences/videoplayback (online-video-cutter.com)_seq_84_label_0.npy (deflated 49%)\n",
            "  adding: content/processed_sequences/videoplayback (online-video-cutter.com)_seq_82_label_0.npy (deflated 50%)\n",
            "  adding: content/processed_sequences/videoplayback (online-video-cutter.com)_seq_80_label_0.npy (deflated 50%)\n",
            "  adding: content/processed_sequences/videoplayback (online-video-cutter.com)_seq_87_label_1.npy (deflated 53%)\n",
            "  adding: content/processed_sequences/videoplayback (online-video-cutter.com)_seq_205_label_0.npy (deflated 54%)\n",
            "  adding: content/processed_sequences/videoplayback (online-video-cutter.com)_seq_43_label_1.npy (deflated 36%)\n",
            "  adding: content/processed_sequences/videoplayback (online-video-cutter.com)_seq_128_label_0.npy (deflated 53%)\n",
            "  adding: content/processed_sequences/videoplayback (online-video-cutter.com)_seq_147_label_0.npy (deflated 50%)\n",
            "  adding: content/processed_sequences/videoplayback (online-video-cutter.com)_seq_188_label_1.npy (deflated 61%)\n",
            "  adding: content/processed_sequences/videoplayback (online-video-cutter.com)_seq_126_label_0.npy (deflated 50%)\n",
            "  adding: content/processed_sequences/videoplayback (online-video-cutter.com)_seq_54_label_1.npy (deflated 35%)\n",
            "  adding: content/processed_sequences/videoplayback (online-video-cutter.com)_seq_106_label_0.npy (deflated 42%)\n",
            "  adding: content/processed_sequences/videoplayback (online-video-cutter.com)_seq_202_label_0.npy (deflated 52%)\n",
            "  adding: content/processed_sequences/videoplayback (online-video-cutter.com)_seq_110_label_0.npy (deflated 42%)\n",
            "  adding: content/processed_sequences/videoplayback (online-video-cutter.com)_seq_34_label_1.npy (deflated 39%)\n",
            "  adding: content/processed_sequences/videoplayback (online-video-cutter.com)_seq_158_label_0.npy (deflated 50%)\n",
            "  adding: content/processed_sequences/videoplayback (online-video-cutter.com)_seq_119_label_0.npy (deflated 56%)\n",
            "  adding: content/processed_sequences/videoplayback (online-video-cutter.com)_seq_165_label_0.npy (deflated 52%)\n",
            "  adding: content/processed_sequences/videoplayback (online-video-cutter.com)_seq_173_label_0.npy (deflated 54%)\n",
            "  adding: content/processed_sequences/videoplayback (online-video-cutter.com)_seq_136_label_0.npy (deflated 51%)\n",
            "  adding: content/processed_sequences/videoplayback (online-video-cutter.com)_seq_112_label_0.npy (deflated 41%)\n",
            "  adding: content/processed_sequences/videoplayback (online-video-cutter.com)_seq_160_label_0.npy (deflated 51%)\n",
            "  adding: content/processed_sequences/videoplayback (online-video-cutter.com)_seq_51_label_1.npy (deflated 40%)\n",
            "  adding: content/processed_sequences/videoplayback (online-video-cutter.com)_seq_65_label_1.npy (deflated 53%)\n"
          ]
        }
      ]
    },
    {
      "cell_type": "markdown",
      "source": [
        "# Pytorch dataset construction"
      ],
      "metadata": {
        "id": "-_0ujCFeezLt"
      }
    },
    {
      "cell_type": "code",
      "source": [
        "class AccidentPredictionDataset(Dataset):\n",
        "    def __init__(self, sequences_dir, transform=None):\n",
        "        self.transform = transform\n",
        "        self.sequence_paths = []\n",
        "        self.labels = []\n",
        "\n",
        "        for filename in os.listdir(sequences_dir):\n",
        "            if filename.endswith('.npy'):\n",
        "                self.sequence_paths.append(os.path.join(sequences_dir, filename))\n",
        "                label = int(filename.split('_label_')[1].split('.npy')[0])\n",
        "                self.labels.append(label)\n",
        "\n",
        "    def __len__(self):\n",
        "        return len(self.sequence_paths)\n",
        "\n",
        "    def __getitem__(self, idx):\n",
        "        sequence = np.load(self.sequence_paths[idx])  # Shape: [seq_len, H, W, C]\n",
        "        label = self.labels[idx]\n",
        "\n",
        "        # Apply transformations to each frame\n",
        "        if self.transform:\n",
        "            sequence = [self.transform(frame) for frame in sequence]\n",
        "\n",
        "        # Stack frames into a tensor\n",
        "        sequence = torch.stack(sequence)  # Shape: [seq_len, C, H, W]\n",
        "\n",
        "        return sequence, label"
      ],
      "metadata": {
        "id": "kUSZxWW-Wzvm"
      },
      "execution_count": 22,
      "outputs": []
    },
    {
      "cell_type": "code",
      "source": [],
      "metadata": {
        "id": "KcXwN9MCVH_E"
      },
      "execution_count": 22,
      "outputs": []
    }
  ]
}