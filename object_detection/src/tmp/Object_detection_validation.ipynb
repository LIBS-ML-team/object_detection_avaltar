{
  "nbformat": 4,
  "nbformat_minor": 0,
  "metadata": {
    "colab": {
      "provenance": []
    },
    "kernelspec": {
      "name": "python3",
      "display_name": "Python 3"
    },
    "language_info": {
      "name": "python"
    }
  },
  "cells": [
    {
      "cell_type": "code",
      "execution_count": 1,
      "metadata": {
        "colab": {
          "base_uri": "https://localhost:8080/"
        },
        "id": "NPqtX9JEBmiq",
        "outputId": "592ff267-8d35-4b7a-a40e-d72c21a60036"
      },
      "outputs": [
        {
          "output_type": "stream",
          "name": "stdout",
          "text": [
            "--2024-08-08 06:43:24--  http://images.cocodataset.org/annotations/annotations_trainval2017.zip\n",
            "Resolving images.cocodataset.org (images.cocodataset.org)... 52.216.205.251, 3.5.27.228, 54.231.169.9, ...\n",
            "Connecting to images.cocodataset.org (images.cocodataset.org)|52.216.205.251|:80... connected.\n",
            "HTTP request sent, awaiting response... 200 OK\n",
            "Length: 252907541 (241M) [application/zip]\n",
            "Saving to: ‘annotations_trainval2017.zip’\n",
            "\n",
            "annotations_trainva 100%[===================>] 241.19M  93.6MB/s    in 2.6s    \n",
            "\n",
            "2024-08-08 06:43:27 (93.6 MB/s) - ‘annotations_trainval2017.zip’ saved [252907541/252907541]\n",
            "\n",
            "--2024-08-08 06:43:40--  http://images.cocodataset.org/zips/val2017.zip\n",
            "Resolving images.cocodataset.org (images.cocodataset.org)... 3.5.28.251, 52.217.204.177, 52.217.102.244, ...\n",
            "Connecting to images.cocodataset.org (images.cocodataset.org)|3.5.28.251|:80... connected.\n",
            "HTTP request sent, awaiting response... 200 OK\n",
            "Length: 815585330 (778M) [application/zip]\n",
            "Saving to: ‘val2017.zip’\n",
            "\n",
            "val2017.zip         100%[===================>] 777.80M  95.4MB/s    in 8.1s    \n",
            "\n",
            "2024-08-08 06:43:48 (95.7 MB/s) - ‘val2017.zip’ saved [815585330/815585330]\n",
            "\n"
          ]
        }
      ],
      "source": [
        "!mkdir -p /data/coco/\n",
        "\n",
        "# Download the annotation ZIP and extract it, then remove the ZIP file\n",
        "!wget http://images.cocodataset.org/annotations/annotations_trainval2017.zip\n",
        "!unzip -q annotations_trainval2017.zip -d /data/coco/\n",
        "!rm annotations_trainval2017.zip\n",
        "\n",
        "# Download the train2017 ZIP, extract it, and remove the ZIP file\n",
        "# !wget http://images.cocodataset.org/zips/train2017.zip\n",
        "# !unzip -q train2017.zip -d /data/coco/\n",
        "# !rm train2017.zip\n",
        "\n",
        "# Download the val2017 ZIP, extract it, and remove the ZIP file\n",
        "!wget http://images.cocodataset.org/zips/val2017.zip\n",
        "!unzip -q val2017.zip -d /data/coco/\n",
        "!rm val2017.zip"
      ]
    },
    {
      "cell_type": "code",
      "source": [
        "!pip install matplotlib==3.5 opencv-python pybboxes"
      ],
      "metadata": {
        "colab": {
          "base_uri": "https://localhost:8080/"
        },
        "id": "wmvavIhvDqHJ",
        "outputId": "043f0997-680a-43be-c291-9e01c69b8110"
      },
      "execution_count": 1,
      "outputs": [
        {
          "output_type": "stream",
          "name": "stdout",
          "text": [
            "Requirement already satisfied: matplotlib==3.5 in /usr/local/lib/python3.10/dist-packages (3.5.0)\n",
            "Requirement already satisfied: opencv-python in /usr/local/lib/python3.10/dist-packages (4.10.0.84)\n",
            "Requirement already satisfied: pybboxes in /usr/local/lib/python3.10/dist-packages (0.1.6)\n",
            "Requirement already satisfied: cycler>=0.10 in /usr/local/lib/python3.10/dist-packages (from matplotlib==3.5) (0.12.1)\n",
            "Requirement already satisfied: fonttools>=4.22.0 in /usr/local/lib/python3.10/dist-packages (from matplotlib==3.5) (4.53.1)\n",
            "Requirement already satisfied: kiwisolver>=1.0.1 in /usr/local/lib/python3.10/dist-packages (from matplotlib==3.5) (1.4.5)\n",
            "Requirement already satisfied: numpy>=1.17 in /usr/local/lib/python3.10/dist-packages (from matplotlib==3.5) (1.26.4)\n",
            "Requirement already satisfied: packaging>=20.0 in /usr/local/lib/python3.10/dist-packages (from matplotlib==3.5) (24.1)\n",
            "Requirement already satisfied: pillow>=6.2.0 in /usr/local/lib/python3.10/dist-packages (from matplotlib==3.5) (9.4.0)\n",
            "Requirement already satisfied: pyparsing>=2.2.1 in /usr/local/lib/python3.10/dist-packages (from matplotlib==3.5) (3.1.2)\n",
            "Requirement already satisfied: python-dateutil>=2.7 in /usr/local/lib/python3.10/dist-packages (from matplotlib==3.5) (2.8.2)\n",
            "Requirement already satisfied: setuptools-scm>=4 in /usr/local/lib/python3.10/dist-packages (from matplotlib==3.5) (8.1.0)\n",
            "Requirement already satisfied: six>=1.5 in /usr/local/lib/python3.10/dist-packages (from python-dateutil>=2.7->matplotlib==3.5) (1.16.0)\n",
            "Requirement already satisfied: setuptools in /usr/local/lib/python3.10/dist-packages (from setuptools-scm>=4->matplotlib==3.5) (71.0.4)\n",
            "Requirement already satisfied: tomli>=1 in /usr/local/lib/python3.10/dist-packages (from setuptools-scm>=4->matplotlib==3.5) (2.0.1)\n"
          ]
        }
      ]
    },
    {
      "cell_type": "code",
      "source": [
        "!git clone https://github.com/Cartucho/mAP"
      ],
      "metadata": {
        "colab": {
          "base_uri": "https://localhost:8080/"
        },
        "id": "Ue8jn0mpDkAv",
        "outputId": "ed5c82f3-3a0b-4b6b-ef14-c12373ff93e9"
      },
      "execution_count": 2,
      "outputs": [
        {
          "output_type": "stream",
          "name": "stdout",
          "text": [
            "Cloning into 'mAP'...\n",
            "remote: Enumerating objects: 908, done.\u001b[K\n",
            "remote: Counting objects: 100% (150/150), done.\u001b[K\n",
            "remote: Compressing objects: 100% (25/25), done.\u001b[K\n",
            "remote: Total 908 (delta 135), reused 125 (delta 125), pack-reused 758\u001b[K\n",
            "Receiving objects: 100% (908/908), 14.70 MiB | 28.95 MiB/s, done.\n",
            "Resolving deltas: 100% (329/329), done.\n"
          ]
        }
      ]
    },
    {
      "cell_type": "code",
      "source": [
        "import json\n",
        "import os\n",
        "from pybboxes import BoundingBox\n",
        "import pybboxes as pbx"
      ],
      "metadata": {
        "id": "PwzHXaygD8z-"
      },
      "execution_count": 3,
      "outputs": []
    },
    {
      "cell_type": "code",
      "source": [
        "# def coco_to_map_gt(coco_annotation_path, output_dir):\n",
        "#     with open(coco_annotation_path, 'r') as f:\n",
        "#         coco_data = json.load(f)\n",
        "\n",
        "#     annotations = coco_data['annotations']\n",
        "#     images = {image['id']: image['file_name'] for image in coco_data['images']}\n",
        "#     categories = {category['id']: category['name'] for category in coco_data['categories']}\n",
        "\n",
        "#     if not os.path.exists(output_dir):\n",
        "#         os.makedirs(output_dir)\n",
        "\n",
        "#     for annotation in annotations:\n",
        "#         image_id = annotation['image_id']\n",
        "#         image_file = images[image_id]\n",
        "#         category_id = annotation['category_id']\n",
        "#         category_name = categories[category_id]\n",
        "#         bbox = annotation['bbox']\n",
        "\n",
        "#         # Convert COCO bbox (x, y, width, height) to (xmin, ymin, xmax, ymax)\n",
        "#         xmin, ymin, width, height = bbox\n",
        "#         xmax = xmin + width\n",
        "#         ymax = ymin + height\n",
        "\n",
        "#         gt_file = os.path.join(output_dir, image_file.replace('.jpg', '.txt'))\n",
        "#         with open(gt_file, 'w') as f:\n",
        "#             f.write(f\"{category_name} {xmin} {ymin} {xmax} {ymax}\\n\")\n",
        "\n",
        "# coco_to_map_gt('/data/coco/annotations/instances_val2017.json', 'mAP/input/ground-truth/')\n"
      ],
      "metadata": {
        "id": "PoGwKTQgBv88"
      },
      "execution_count": 8,
      "outputs": []
    },
    {
      "cell_type": "code",
      "source": [
        "def coco_to_map(coco_annotation_path, output_dir, mode='ground-truth'):\n",
        "    with open(coco_annotation_path, 'r') as f:\n",
        "        coco_data = json.load(f)\n",
        "\n",
        "    annotations = coco_data['annotations']\n",
        "    images = {image['id']: image['file_name'] for image in coco_data['images']}\n",
        "    categories = {category['id']: category['name'].replace(' ', '_') for category in coco_data['categories']}\n",
        "\n",
        "    if not os.path.exists(output_dir):\n",
        "        os.makedirs(output_dir)\n",
        "\n",
        "    for annotation in annotations:\n",
        "        image_id = annotation['image_id']\n",
        "        if image_id not in images:\n",
        "            print(f\"Error. Image not found with id: {image_id}\")\n",
        "            continue\n",
        "\n",
        "        image_file = images[image_id]\n",
        "        category_id = annotation['category_id']\n",
        "        category_name = categories[category_id]\n",
        "        bbox = annotation['bbox']\n",
        "\n",
        "        # Convert COCO bbox (x, y, width, height) to (xmin, ymin, xmax, ymax)\n",
        "        xmin, ymin, width, height = bbox\n",
        "        xmax = xmin + width\n",
        "        ymax = ymin + height\n",
        "\n",
        "        output_file = os.path.join(output_dir, image_file.replace('.jpg', '.txt'))\n",
        "\n",
        "        if mode == 'ground-truth':\n",
        "            with open(output_file, 'w') as f:\n",
        "                f.write(f\"{category_name} {xmin} {ymin} {xmax} {ymax}\\n\")\n",
        "        elif mode == 'detection-results':\n",
        "            score = 1.0  # Assuming 100% accuracy for testing\n",
        "            with open(output_file, 'w') as f:\n",
        "                f.write(f\"{category_name} {score} {xmin} {ymin} {xmax} {ymax}\\n\")\n",
        "        else:\n",
        "            raise ValueError(\"Mode must be 'ground-truth' or 'detection-results'\")\n",
        "\n"
      ],
      "metadata": {
        "id": "pdXmiiZQBv_4"
      },
      "execution_count": 4,
      "outputs": []
    },
    {
      "cell_type": "code",
      "source": [
        "# Prepare ground-truth files\n",
        "coco_to_map('/data/coco/annotations/instances_val2017.json', 'mAP/input/ground-truth/', mode='ground-truth')\n",
        "\n",
        "# Prepare detection-results files\n",
        "coco_to_map('/data/coco/annotations/instances_val2017.json', 'mAP/input/detection-results/', mode='detection-results')"
      ],
      "metadata": {
        "id": "5YAYH4zRGNk2"
      },
      "execution_count": 5,
      "outputs": []
    },
    {
      "cell_type": "code",
      "source": [
        "%cd /content/"
      ],
      "metadata": {
        "colab": {
          "base_uri": "https://localhost:8080/"
        },
        "id": "IFeL-NfmGZnY",
        "outputId": "8ac2b9b9-7b1d-457f-cc66-afbfa2cba974"
      },
      "execution_count": 17,
      "outputs": [
        {
          "output_type": "stream",
          "name": "stdout",
          "text": [
            "/content\n"
          ]
        }
      ]
    },
    {
      "cell_type": "code",
      "source": [
        "%cd /content/\n",
        "%cd mAP\n",
        "!python main.py -na\n",
        "%cd /content/"
      ],
      "metadata": {
        "id": "uL0f_e-5BwBW",
        "colab": {
          "base_uri": "https://localhost:8080/"
        },
        "outputId": "9e6490f5-d720-4f60-bbee-f55b9150ab29"
      },
      "execution_count": 6,
      "outputs": [
        {
          "output_type": "stream",
          "name": "stdout",
          "text": [
            "/content\n",
            "/content/mAP\n",
            "100.00% = airplane AP \n",
            "/content/mAP/main.py:704: MatplotlibDeprecationWarning: \n",
            "The set_window_title function was deprecated in Matplotlib 3.4 and will be removed two minor releases later. Use manager.set_window_title or GUI-specific methods instead.\n",
            "  fig.canvas.set_window_title('AP ' + class_name)\n",
            "100.00% = apple AP \n",
            "100.00% = backpack AP \n",
            "100.00% = banana AP \n",
            "100.00% = baseball_bat AP \n",
            "100.00% = baseball_glove AP \n",
            "100.00% = bear AP \n",
            "100.00% = bed AP \n",
            "100.00% = bench AP \n",
            "100.00% = bicycle AP \n",
            "100.00% = bird AP \n",
            "100.00% = boat AP \n",
            "100.00% = book AP \n",
            "100.00% = bottle AP \n",
            "100.00% = bowl AP \n",
            "100.00% = broccoli AP \n",
            "100.00% = bus AP \n",
            "100.00% = cake AP \n",
            "100.00% = car AP \n",
            "100.00% = carrot AP \n",
            "100.00% = cat AP \n",
            "100.00% = cell_phone AP \n",
            "100.00% = chair AP \n",
            "100.00% = clock AP \n",
            "100.00% = couch AP \n",
            "100.00% = cow AP \n",
            "100.00% = cup AP \n",
            "100.00% = dining_table AP \n",
            "100.00% = dog AP \n",
            "100.00% = donut AP \n",
            "100.00% = elephant AP \n",
            "100.00% = fire_hydrant AP \n",
            "100.00% = fork AP \n",
            "100.00% = frisbee AP \n",
            "100.00% = giraffe AP \n",
            "100.00% = hair_drier AP \n",
            "100.00% = handbag AP \n",
            "100.00% = horse AP \n",
            "100.00% = hot_dog AP \n",
            "100.00% = keyboard AP \n",
            "100.00% = kite AP \n",
            "100.00% = knife AP \n",
            "100.00% = laptop AP \n",
            "100.00% = microwave AP \n",
            "100.00% = motorcycle AP \n",
            "100.00% = mouse AP \n",
            "100.00% = orange AP \n",
            "100.00% = oven AP \n",
            "100.00% = parking_meter AP \n",
            "100.00% = person AP \n",
            "100.00% = pizza AP \n",
            "100.00% = potted_plant AP \n",
            "100.00% = refrigerator AP \n",
            "100.00% = remote AP \n",
            "100.00% = sandwich AP \n",
            "100.00% = scissors AP \n",
            "100.00% = sheep AP \n",
            "100.00% = sink AP \n",
            "100.00% = skateboard AP \n",
            "100.00% = skis AP \n",
            "100.00% = snowboard AP \n",
            "100.00% = spoon AP \n",
            "100.00% = sports_ball AP \n",
            "100.00% = stop_sign AP \n",
            "100.00% = suitcase AP \n",
            "100.00% = surfboard AP \n",
            "100.00% = teddy_bear AP \n",
            "100.00% = tennis_racket AP \n",
            "100.00% = tie AP \n",
            "100.00% = toaster AP \n",
            "100.00% = toilet AP \n",
            "100.00% = toothbrush AP \n",
            "100.00% = traffic_light AP \n",
            "100.00% = train AP \n",
            "100.00% = truck AP \n",
            "100.00% = tv AP \n",
            "100.00% = umbrella AP \n",
            "100.00% = vase AP \n",
            "100.00% = wine_glass AP \n",
            "100.00% = zebra AP \n",
            "mAP = 100.00%\n",
            "/content/mAP/main.py:298: MatplotlibDeprecationWarning: \n",
            "The set_window_title function was deprecated in Matplotlib 3.4 and will be removed two minor releases later. Use manager.set_window_title or GUI-specific methods instead.\n",
            "  fig.canvas.set_window_title(window_title)\n",
            "Figure(640x1680)\n",
            "/content\n"
          ]
        }
      ]
    },
    {
      "cell_type": "markdown",
      "source": [
        "## All type conversation"
      ],
      "metadata": {
        "id": "G6-vpjRUOIw6"
      }
    },
    {
      "cell_type": "code",
      "source": [
        "def coco_to_map_with_conversion(coco_annotation_path, output_dir, mode='ground-truth', target_format='coco'):\n",
        "    with open(coco_annotation_path, 'r') as f:\n",
        "        coco_data = json.load(f)\n",
        "\n",
        "    annotations = coco_data['annotations']\n",
        "    images = {image['id']: image['file_name'] for image in coco_data['images']}\n",
        "    image_sizes = {image['id']: (image[\"width\"], image['height']) for image in coco_data['images']}\n",
        "    categories = {category['id']: category['name'].replace(' ', '_') for category in coco_data['categories']}\n",
        "\n",
        "    if not os.path.exists(output_dir):\n",
        "        os.makedirs(output_dir)\n",
        "\n",
        "    for annotation in annotations:\n",
        "        image_id = annotation['image_id']\n",
        "        if image_id not in images:\n",
        "            print(f\"Error. Image not found with id: {image_id}\")\n",
        "            continue\n",
        "\n",
        "        image_file = images[image_id]\n",
        "        image_size = image_sizes[image_id]\n",
        "\n",
        "        category_id = annotation['category_id']\n",
        "        category_name = categories[category_id]\n",
        "        bbox = annotation['bbox']\n",
        "\n",
        "        if target_format == 'voc':\n",
        "            converted_bbox = pbx.convert_bbox(bbox, from_type=\"coco\", to_type=\"voc\")\n",
        "        elif target_format == 'albumentations':\n",
        "            converted_bbox = pbx.convert_bbox(bbox, from_type=\"coco\", to_type=\"albumentations\", image_size=image_size)\n",
        "        elif target_format == 'yolo':\n",
        "            converted_bbox = pbx.convert_bbox(bbox, from_type=\"coco\", to_type=\"yolo\", image_size=image_size)\n",
        "        elif target_format == 'coco':\n",
        "            converted_bbox = bbox\n",
        "        else:\n",
        "            raise ValueError(\"Unsupported target format\")\n",
        "\n",
        "        # Convert back to COCO format for evaluation\n",
        "        if target_format != 'coco':\n",
        "            converted_back_bbox = pbx.convert_bbox(converted_bbox, from_type=target_format, to_type=\"coco\", image_size=image_size)\n",
        "        else:\n",
        "            converted_back_bbox = converted_bbox\n",
        "\n",
        "        output_file = os.path.join(output_dir, image_file.replace('.jpg', '.txt'))\n",
        "\n",
        "        xmin, ymin, width, height = converted_back_bbox\n",
        "        xmax = xmin + width\n",
        "        ymax = ymin + height\n",
        "\n",
        "        if mode == 'ground-truth':\n",
        "            with open(output_file, 'w') as f:\n",
        "                f.write(f\"{category_name} {xmin} {ymin} {xmax} {ymax}\\n\")\n",
        "        elif mode == 'detection-results':\n",
        "            score = 1.0  # Assuming 100% accuracy for testing\n",
        "            with open(output_file, 'w') as f:\n",
        "                f.write(f\"{category_name} {score} {xmin} {ymin} {xmax} {ymax}\\n\")\n",
        "        else:\n",
        "            raise ValueError(\"Mode must be 'ground-truth' or 'detection-results'\")\n"
      ],
      "metadata": {
        "id": "AR_a56peOK6a"
      },
      "execution_count": 4,
      "outputs": []
    },
    {
      "cell_type": "markdown",
      "source": [
        "**Needs to restart result before running**"
      ],
      "metadata": {
        "id": "1rsJZIZ8te8u"
      }
    },
    {
      "cell_type": "code",
      "source": [
        "!rm -r /content/mAP/input/ground-truth/\n",
        "!rm -r /content/mAP/input/detection-results/\n",
        "!rm -r /content/mAP/input/images-optional"
      ],
      "metadata": {
        "colab": {
          "base_uri": "https://localhost:8080/"
        },
        "id": "91L5HxdTrmz9",
        "outputId": "ce93946d-be85-4bfc-9cb4-ca2fcd74ae38"
      },
      "execution_count": 13,
      "outputs": [
        {
          "output_type": "stream",
          "name": "stdout",
          "text": [
            "rm: cannot remove '/content/mAP/input/images-optional': No such file or directory\n"
          ]
        }
      ]
    },
    {
      "cell_type": "code",
      "source": [
        "coco_to_map_with_conversion('/data/coco/annotations/instances_val2017.json', 'mAP/input/ground-truth/', mode='ground-truth', target_format='albumentations')\n",
        "\n",
        "coco_to_map_with_conversion('/data/coco/annotations/instances_val2017.json', 'mAP/input/detection-results/', mode='detection-results', target_format='albumentations')"
      ],
      "metadata": {
        "id": "W3zyD4jxOWPN"
      },
      "execution_count": 14,
      "outputs": []
    },
    {
      "cell_type": "code",
      "source": [
        "# Load the JSON data\n",
        "with open('/data/coco/annotations/instances_val2017.json', 'r') as f:\n",
        "    coco_data = json.load(f)\n",
        "\n",
        "# Print the top-level keys\n",
        "print(\"Top-level keys:\", coco_data.keys())\n",
        "\n",
        "# Print a sample of the images and annotations\n",
        "print(\"Sample of images:\")\n",
        "for i in range(3):\n",
        "    print(coco_data['images'][i])\n",
        "\n",
        "print(\"\\nSample of annotations:\")\n",
        "for i in range(3):\n",
        "    print(coco_data['annotations'][i])\n"
      ],
      "metadata": {
        "colab": {
          "base_uri": "https://localhost:8080/"
        },
        "collapsed": true,
        "id": "WQ9lCKgjWLUF",
        "outputId": "a23c858f-d25f-47f7-b533-da9450722aad"
      },
      "execution_count": 35,
      "outputs": [
        {
          "output_type": "stream",
          "name": "stdout",
          "text": [
            "Top-level keys: dict_keys(['info', 'licenses', 'images', 'annotations', 'categories'])\n",
            "Sample of images:\n",
            "{'license': 4, 'file_name': '000000397133.jpg', 'coco_url': 'http://images.cocodataset.org/val2017/000000397133.jpg', 'height': 427, 'width': 640, 'date_captured': '2013-11-14 17:02:52', 'flickr_url': 'http://farm7.staticflickr.com/6116/6255196340_da26cf2c9e_z.jpg', 'id': 397133}\n",
            "{'license': 1, 'file_name': '000000037777.jpg', 'coco_url': 'http://images.cocodataset.org/val2017/000000037777.jpg', 'height': 230, 'width': 352, 'date_captured': '2013-11-14 20:55:31', 'flickr_url': 'http://farm9.staticflickr.com/8429/7839199426_f6d48aa585_z.jpg', 'id': 37777}\n",
            "{'license': 4, 'file_name': '000000252219.jpg', 'coco_url': 'http://images.cocodataset.org/val2017/000000252219.jpg', 'height': 428, 'width': 640, 'date_captured': '2013-11-14 22:32:02', 'flickr_url': 'http://farm4.staticflickr.com/3446/3232237447_13d84bd0a1_z.jpg', 'id': 252219}\n",
            "\n",
            "Sample of annotations:\n",
            "{'segmentation': [[510.66, 423.01, 511.72, 420.03, 510.45, 416.0, 510.34, 413.02, 510.77, 410.26, 510.77, 407.5, 510.34, 405.16, 511.51, 402.83, 511.41, 400.49, 510.24, 398.16, 509.39, 397.31, 504.61, 399.22, 502.17, 399.64, 500.89, 401.66, 500.47, 402.08, 499.09, 401.87, 495.79, 401.98, 490.59, 401.77, 488.79, 401.77, 485.39, 398.58, 483.9, 397.31, 481.56, 396.35, 478.48, 395.93, 476.68, 396.03, 475.4, 396.77, 473.92, 398.79, 473.28, 399.96, 473.49, 401.87, 474.56, 403.47, 473.07, 405.59, 473.39, 407.71, 476.68, 409.41, 479.23, 409.73, 481.56, 410.69, 480.4, 411.85, 481.35, 414.93, 479.86, 418.65, 477.32, 420.03, 476.04, 422.58, 479.02, 422.58, 480.29, 423.01, 483.79, 419.93, 486.66, 416.21, 490.06, 415.57, 492.18, 416.85, 491.65, 420.24, 492.82, 422.9, 493.56, 424.39, 496.43, 424.6, 498.02, 423.01, 498.13, 421.31, 497.07, 420.03, 497.07, 415.15, 496.33, 414.51, 501.1, 411.96, 502.06, 411.32, 503.02, 415.04, 503.33, 418.12, 501.1, 420.24, 498.98, 421.63, 500.47, 424.39, 505.03, 423.32, 506.2, 421.31, 507.69, 419.5, 506.31, 423.32, 510.03, 423.01, 510.45, 423.01]], 'area': 702.1057499999998, 'iscrowd': 0, 'image_id': 289343, 'bbox': [473.07, 395.93, 38.65, 28.67], 'category_id': 18, 'id': 1768}\n",
            "{'segmentation': [[289.74, 443.39, 302.29, 445.32, 308.09, 427.94, 310.02, 416.35, 304.23, 405.73, 300.14, 385.01, 298.23, 359.52, 295.04, 365.89, 282.3, 362.71, 275.29, 358.25, 277.2, 346.14, 280.39, 339.13, 284.85, 339.13, 291.22, 338.49, 293.77, 335.95, 295.04, 326.39, 297.59, 317.47, 289.94, 309.82, 287.4, 288.79, 286.12, 275.41, 284.21, 271.59, 279.11, 276.69, 275.93, 275.41, 272.1, 271.59, 274.01, 267.77, 275.93, 265.22, 277.84, 264.58, 282.3, 251.2, 293.77, 238.46, 307.79, 221.25, 314.79, 211.69, 325.63, 205.96, 338.37, 205.32, 347.29, 205.32, 353.03, 205.32, 361.31, 200.23, 367.95, 202.02, 372.27, 205.8, 382.52, 215.51, 388.46, 225.22, 399.25, 235.47, 399.25, 252.74, 390.08, 247.34, 386.84, 247.34, 388.46, 256.52, 397.09, 268.93, 413.28, 298.6, 421.91, 356.87, 424.07, 391.4, 422.99, 409.74, 420.29, 428.63, 415.43, 433.48, 407.88, 414.6, 405.72, 391.94, 401.41, 404.89, 394.39, 420.54, 391.69, 435.64, 391.15, 447.51, 387.38, 461.0, 384.68, 480.0, 354.47, 477.73, 363.1, 433.48, 370.65, 405.43, 369.03, 394.64, 361.48, 398.95, 355.54, 403.81, 351.77, 403.81, 343.68, 403.27, 339.36, 402.19, 335.58, 404.89, 333.42, 411.9, 332.34, 416.76, 333.42, 425.93, 334.5, 430.79, 336.12, 435.64, 321.01, 464.78, 316.16, 468.01, 307.53, 472.33, 297.28, 472.33, 290.26, 471.25, 285.94, 472.33, 283.79, 464.78, 280.01, 462.62, 284.33, 454.53, 285.94, 453.45, 282.71, 448.59, 288.64, 444.27, 291.88, 443.74]], 'area': 27718.476299999995, 'iscrowd': 0, 'image_id': 61471, 'bbox': [272.1, 200.23, 151.97, 279.77], 'category_id': 18, 'id': 1773}\n",
            "{'segmentation': [[147.76, 396.11, 158.48, 355.91, 153.12, 347.87, 137.04, 346.26, 125.25, 339.29, 124.71, 301.77, 139.18, 262.64, 159.55, 232.63, 185.82, 209.04, 226.01, 196.72, 244.77, 196.18, 251.74, 202.08, 275.33, 224.59, 283.9, 232.63, 295.16, 240.67, 315.53, 247.1, 327.85, 249.78, 338.57, 253.0, 354.12, 263.72, 379.31, 276.04, 395.39, 286.23, 424.33, 304.99, 454.95, 336.93, 479.62, 387.02, 491.58, 436.36, 494.57, 453.55, 497.56, 463.27, 493.08, 511.86, 487.02, 532.62, 470.4, 552.99, 401.26, 552.99, 399.65, 547.63, 407.15, 535.3, 389.46, 536.91, 374.46, 540.13, 356.23, 540.13, 354.09, 536.91, 341.23, 533.16, 340.15, 526.19, 342.83, 518.69, 355.7, 512.26, 360.52, 510.65, 374.46, 510.11, 375.53, 494.03, 369.1, 497.25, 361.06, 491.89, 361.59, 488.67, 354.63, 489.21, 346.05, 496.71, 343.37, 492.42, 335.33, 495.64, 333.19, 489.21, 327.83, 488.67, 323.0, 499.39, 312.82, 520.83, 304.24, 531.02, 291.91, 535.84, 273.69, 536.91, 269.4, 533.7, 261.36, 533.7, 256.0, 531.02, 254.93, 524.58, 268.33, 509.58, 277.98, 505.82, 287.09, 505.29, 301.56, 481.7, 302.1, 462.41, 294.06, 481.17, 289.77, 488.14, 277.98, 489.74, 261.36, 489.21, 254.93, 488.67, 254.93, 484.38, 244.75, 482.24, 247.96, 473.66, 260.83, 467.23, 276.37, 464.02, 283.34, 446.33, 285.48, 431.32, 287.63, 412.02, 277.98, 407.74, 260.29, 403.99, 257.61, 401.31, 255.47, 391.12, 233.8, 389.37, 220.18, 393.91, 210.65, 393.91, 199.76, 406.61, 187.51, 417.96, 178.43, 420.68, 167.99, 420.68, 163.45, 418.41, 158.01, 419.32, 148.47, 418.41, 145.3, 413.88, 146.66, 402.53]], 'area': 78969.31690000003, 'iscrowd': 0, 'image_id': 472375, 'bbox': [124.71, 196.18, 372.85, 356.81], 'category_id': 18, 'id': 2551}\n"
          ]
        }
      ]
    },
    {
      "cell_type": "code",
      "source": [
        "%cd /content/\n",
        "%cd mAP\n",
        "!python main.py -na\n",
        "%cd /content/"
      ],
      "metadata": {
        "colab": {
          "base_uri": "https://localhost:8080/"
        },
        "id": "j8HaPzxdUAtC",
        "outputId": "ba67e40e-2150-4bc6-a9e8-d7ba528a518c"
      },
      "execution_count": 15,
      "outputs": [
        {
          "output_type": "stream",
          "name": "stdout",
          "text": [
            "/content\n",
            "/content/mAP\n",
            "100.00% = airplane AP \n",
            "/content/mAP/main.py:704: MatplotlibDeprecationWarning: \n",
            "The set_window_title function was deprecated in Matplotlib 3.4 and will be removed two minor releases later. Use manager.set_window_title or GUI-specific methods instead.\n",
            "  fig.canvas.set_window_title('AP ' + class_name)\n",
            "100.00% = apple AP \n",
            "100.00% = backpack AP \n",
            "100.00% = banana AP \n",
            "100.00% = baseball_bat AP \n",
            "100.00% = baseball_glove AP \n",
            "100.00% = bear AP \n",
            "100.00% = bed AP \n",
            "100.00% = bench AP \n",
            "100.00% = bicycle AP \n",
            "100.00% = bird AP \n",
            "100.00% = boat AP \n",
            "100.00% = book AP \n",
            "100.00% = bottle AP \n",
            "100.00% = bowl AP \n",
            "100.00% = broccoli AP \n",
            "100.00% = bus AP \n",
            "100.00% = cake AP \n",
            "100.00% = car AP \n",
            "100.00% = carrot AP \n",
            "100.00% = cat AP \n",
            "100.00% = cell_phone AP \n",
            "100.00% = chair AP \n",
            "100.00% = clock AP \n",
            "100.00% = couch AP \n",
            "100.00% = cow AP \n",
            "100.00% = cup AP \n",
            "100.00% = dining_table AP \n",
            "100.00% = dog AP \n",
            "100.00% = donut AP \n",
            "100.00% = elephant AP \n",
            "100.00% = fire_hydrant AP \n",
            "100.00% = fork AP \n",
            "100.00% = frisbee AP \n",
            "100.00% = giraffe AP \n",
            "100.00% = hair_drier AP \n",
            "100.00% = handbag AP \n",
            "100.00% = horse AP \n",
            "100.00% = hot_dog AP \n",
            "100.00% = keyboard AP \n",
            "100.00% = kite AP \n",
            "100.00% = knife AP \n",
            "100.00% = laptop AP \n",
            "100.00% = microwave AP \n",
            "100.00% = motorcycle AP \n",
            "100.00% = mouse AP \n",
            "100.00% = orange AP \n",
            "100.00% = oven AP \n",
            "100.00% = parking_meter AP \n",
            "100.00% = person AP \n",
            "100.00% = pizza AP \n",
            "100.00% = potted_plant AP \n",
            "100.00% = refrigerator AP \n",
            "100.00% = remote AP \n",
            "100.00% = sandwich AP \n",
            "100.00% = scissors AP \n",
            "100.00% = sheep AP \n",
            "100.00% = sink AP \n",
            "100.00% = skateboard AP \n",
            "100.00% = skis AP \n",
            "100.00% = snowboard AP \n",
            "100.00% = spoon AP \n",
            "100.00% = sports_ball AP \n",
            "100.00% = stop_sign AP \n",
            "100.00% = suitcase AP \n",
            "100.00% = surfboard AP \n",
            "100.00% = teddy_bear AP \n",
            "100.00% = tennis_racket AP \n",
            "100.00% = tie AP \n",
            "100.00% = toaster AP \n",
            "100.00% = toilet AP \n",
            "100.00% = toothbrush AP \n",
            "100.00% = traffic_light AP \n",
            "100.00% = train AP \n",
            "100.00% = truck AP \n",
            "100.00% = tv AP \n",
            "100.00% = umbrella AP \n",
            "100.00% = vase AP \n",
            "100.00% = wine_glass AP \n",
            "100.00% = zebra AP \n",
            "mAP = 100.00%\n",
            "/content/mAP/main.py:298: MatplotlibDeprecationWarning: \n",
            "The set_window_title function was deprecated in Matplotlib 3.4 and will be removed two minor releases later. Use manager.set_window_title or GUI-specific methods instead.\n",
            "  fig.canvas.set_window_title(window_title)\n",
            "Figure(640x1680)\n",
            "/content\n"
          ]
        }
      ]
    }
  ]
}