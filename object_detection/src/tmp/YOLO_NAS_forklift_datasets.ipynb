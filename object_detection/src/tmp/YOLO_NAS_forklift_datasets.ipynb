{
  "nbformat": 4,
  "nbformat_minor": 0,
  "metadata": {
    "colab": {
      "provenance": []
    },
    "kernelspec": {
      "name": "python3",
      "display_name": "Python 3"
    },
    "language_info": {
      "name": "python"
    }
  },
  "cells": [
    {
      "cell_type": "code",
      "source": [
        "!pip install super-gradients"
      ],
      "metadata": {
        "colab": {
          "base_uri": "https://localhost:8080/"
        },
        "collapsed": true,
        "id": "C4QUPR9clEJL",
        "outputId": "761aa30e-7386-46f4-fb51-f5db5089afce"
      },
      "execution_count": 1,
      "outputs": [
        {
          "output_type": "stream",
          "name": "stdout",
          "text": [
            "Requirement already satisfied: super-gradients in /usr/local/lib/python3.10/dist-packages (3.7.1)\n",
            "Requirement already satisfied: torch>=1.9.0 in /usr/local/lib/python3.10/dist-packages (from super-gradients) (2.4.1+cu121)\n",
            "Requirement already satisfied: tqdm>=4.57.0 in /usr/local/lib/python3.10/dist-packages (from super-gradients) (4.66.5)\n",
            "Requirement already satisfied: boto3>=1.17.15 in /usr/local/lib/python3.10/dist-packages (from super-gradients) (1.35.29)\n",
            "Requirement already satisfied: jsonschema>=3.2.0 in /usr/local/lib/python3.10/dist-packages (from super-gradients) (4.23.0)\n",
            "Requirement already satisfied: Deprecated>=1.2.11 in /usr/local/lib/python3.10/dist-packages (from super-gradients) (1.2.14)\n",
            "Requirement already satisfied: scipy>=1.6.1 in /usr/local/lib/python3.10/dist-packages (from super-gradients) (1.13.1)\n",
            "Requirement already satisfied: matplotlib>=3.3.4 in /usr/local/lib/python3.10/dist-packages (from super-gradients) (3.7.1)\n",
            "Requirement already satisfied: psutil>=5.8.0 in /usr/local/lib/python3.10/dist-packages (from super-gradients) (5.9.5)\n",
            "Requirement already satisfied: tensorboard>=2.4.1 in /usr/local/lib/python3.10/dist-packages (from super-gradients) (2.17.0)\n",
            "Requirement already satisfied: setuptools>=65.5.1 in /usr/local/lib/python3.10/dist-packages (from super-gradients) (71.0.4)\n",
            "Requirement already satisfied: coverage~=5.3.1 in /usr/local/lib/python3.10/dist-packages (from super-gradients) (5.3.1)\n",
            "Requirement already satisfied: torchvision>=0.10.0 in /usr/local/lib/python3.10/dist-packages (from super-gradients) (0.19.1+cu121)\n",
            "Requirement already satisfied: sphinx~=4.0.2 in /usr/local/lib/python3.10/dist-packages (from super-gradients) (4.0.3)\n",
            "Requirement already satisfied: sphinx-rtd-theme in /usr/local/lib/python3.10/dist-packages (from super-gradients) (1.3.0)\n",
            "Requirement already satisfied: torchmetrics==0.8 in /usr/local/lib/python3.10/dist-packages (from super-gradients) (0.8.0)\n",
            "Requirement already satisfied: hydra-core>=1.2.0 in /usr/local/lib/python3.10/dist-packages (from super-gradients) (1.3.2)\n",
            "Requirement already satisfied: omegaconf in /usr/local/lib/python3.10/dist-packages (from super-gradients) (2.3.0)\n",
            "Requirement already satisfied: onnxruntime==1.15.0 in /usr/local/lib/python3.10/dist-packages (from super-gradients) (1.15.0)\n",
            "Requirement already satisfied: onnx==1.15.0 in /usr/local/lib/python3.10/dist-packages (from super-gradients) (1.15.0)\n",
            "Requirement already satisfied: pillow>=10.2.0 in /usr/local/lib/python3.10/dist-packages (from super-gradients) (10.4.0)\n",
            "Requirement already satisfied: pip-tools>=6.12.1 in /usr/local/lib/python3.10/dist-packages (from super-gradients) (7.4.1)\n",
            "Requirement already satisfied: einops==0.3.2 in /usr/local/lib/python3.10/dist-packages (from super-gradients) (0.3.2)\n",
            "Requirement already satisfied: protobuf==3.20.3 in /usr/local/lib/python3.10/dist-packages (from super-gradients) (3.20.3)\n",
            "Requirement already satisfied: treelib==1.6.1 in /usr/local/lib/python3.10/dist-packages (from super-gradients) (1.6.1)\n",
            "Requirement already satisfied: termcolor==1.1.0 in /usr/local/lib/python3.10/dist-packages (from super-gradients) (1.1.0)\n",
            "Requirement already satisfied: packaging>=20.4 in /usr/local/lib/python3.10/dist-packages (from super-gradients) (24.1)\n",
            "Requirement already satisfied: wheel>=0.38.0 in /usr/local/lib/python3.10/dist-packages (from super-gradients) (0.44.0)\n",
            "Requirement already satisfied: pygments>=2.7.4 in /usr/local/lib/python3.10/dist-packages (from super-gradients) (2.18.0)\n",
            "Requirement already satisfied: stringcase>=1.2.0 in /usr/local/lib/python3.10/dist-packages (from super-gradients) (1.2.0)\n",
            "Requirement already satisfied: numpy<=1.23 in /usr/local/lib/python3.10/dist-packages (from super-gradients) (1.23.0)\n",
            "Requirement already satisfied: rapidfuzz in /usr/local/lib/python3.10/dist-packages (from super-gradients) (3.10.0)\n",
            "Requirement already satisfied: json-tricks==3.16.1 in /usr/local/lib/python3.10/dist-packages (from super-gradients) (3.16.1)\n",
            "Requirement already satisfied: onnxsim<1.0,>=0.4.3 in /usr/local/lib/python3.10/dist-packages (from super-gradients) (0.4.36)\n",
            "Requirement already satisfied: data-gradients~=0.3.1 in /usr/local/lib/python3.10/dist-packages (from super-gradients) (0.3.2)\n",
            "Requirement already satisfied: albumentations~=1.3 in /usr/local/lib/python3.10/dist-packages (from super-gradients) (1.3.1)\n",
            "Requirement already satisfied: fonttools>=4.43.0 in /usr/local/lib/python3.10/dist-packages (from super-gradients) (4.53.1)\n",
            "Requirement already satisfied: werkzeug>=2.3.8 in /usr/local/lib/python3.10/dist-packages (from super-gradients) (3.0.4)\n",
            "Requirement already satisfied: coloredlogs in /usr/local/lib/python3.10/dist-packages (from onnxruntime==1.15.0->super-gradients) (15.0.1)\n",
            "Requirement already satisfied: flatbuffers in /usr/local/lib/python3.10/dist-packages (from onnxruntime==1.15.0->super-gradients) (24.3.25)\n",
            "Requirement already satisfied: sympy in /usr/local/lib/python3.10/dist-packages (from onnxruntime==1.15.0->super-gradients) (1.13.3)\n",
            "Requirement already satisfied: pyDeprecate==0.3.* in /usr/local/lib/python3.10/dist-packages (from torchmetrics==0.8->super-gradients) (0.3.2)\n",
            "Requirement already satisfied: future in /usr/local/lib/python3.10/dist-packages (from treelib==1.6.1->super-gradients) (1.0.0)\n",
            "Requirement already satisfied: scikit-image>=0.16.1 in /usr/local/lib/python3.10/dist-packages (from albumentations~=1.3->super-gradients) (0.24.0)\n",
            "Requirement already satisfied: PyYAML in /usr/local/lib/python3.10/dist-packages (from albumentations~=1.3->super-gradients) (6.0.2)\n",
            "Requirement already satisfied: qudida>=0.0.4 in /usr/local/lib/python3.10/dist-packages (from albumentations~=1.3->super-gradients) (0.0.4)\n",
            "Requirement already satisfied: opencv-python-headless>=4.1.1 in /usr/local/lib/python3.10/dist-packages (from albumentations~=1.3->super-gradients) (4.10.0.84)\n",
            "Requirement already satisfied: botocore<1.36.0,>=1.35.29 in /usr/local/lib/python3.10/dist-packages (from boto3>=1.17.15->super-gradients) (1.35.29)\n",
            "Requirement already satisfied: jmespath<2.0.0,>=0.7.1 in /usr/local/lib/python3.10/dist-packages (from boto3>=1.17.15->super-gradients) (1.0.1)\n",
            "Requirement already satisfied: s3transfer<0.11.0,>=0.10.0 in /usr/local/lib/python3.10/dist-packages (from boto3>=1.17.15->super-gradients) (0.10.2)\n",
            "Requirement already satisfied: platformdirs>=2.5.2 in /usr/local/lib/python3.10/dist-packages (from data-gradients~=0.3.1->super-gradients) (4.3.6)\n",
            "Requirement already satisfied: opencv-python in /usr/local/lib/python3.10/dist-packages (from data-gradients~=0.3.1->super-gradients) (4.10.0.84)\n",
            "Requirement already satisfied: seaborn in /usr/local/lib/python3.10/dist-packages (from data-gradients~=0.3.1->super-gradients) (0.13.1)\n",
            "Requirement already satisfied: xhtml2pdf==0.2.11 in /usr/local/lib/python3.10/dist-packages (from data-gradients~=0.3.1->super-gradients) (0.2.11)\n",
            "Requirement already satisfied: jinja2 in /usr/local/lib/python3.10/dist-packages (from data-gradients~=0.3.1->super-gradients) (3.1.4)\n",
            "Requirement already satisfied: imagededup in /usr/local/lib/python3.10/dist-packages (from data-gradients~=0.3.1->super-gradients) (0.3.2)\n",
            "Requirement already satisfied: arabic-reshaper>=3.0.0 in /usr/local/lib/python3.10/dist-packages (from xhtml2pdf==0.2.11->data-gradients~=0.3.1->super-gradients) (3.0.0)\n",
            "Requirement already satisfied: html5lib>=1.0.1 in /usr/local/lib/python3.10/dist-packages (from xhtml2pdf==0.2.11->data-gradients~=0.3.1->super-gradients) (1.1)\n",
            "Requirement already satisfied: pyHanko>=0.12.1 in /usr/local/lib/python3.10/dist-packages (from xhtml2pdf==0.2.11->data-gradients~=0.3.1->super-gradients) (0.25.1)\n",
            "Requirement already satisfied: pyhanko-certvalidator>=0.19.5 in /usr/local/lib/python3.10/dist-packages (from xhtml2pdf==0.2.11->data-gradients~=0.3.1->super-gradients) (0.26.3)\n",
            "Requirement already satisfied: pypdf>=3.1.0 in /usr/local/lib/python3.10/dist-packages (from xhtml2pdf==0.2.11->data-gradients~=0.3.1->super-gradients) (5.0.0)\n",
            "Requirement already satisfied: python-bidi>=0.4.2 in /usr/local/lib/python3.10/dist-packages (from xhtml2pdf==0.2.11->data-gradients~=0.3.1->super-gradients) (0.6.0)\n",
            "Requirement already satisfied: reportlab<4,>=3.5.53 in /usr/local/lib/python3.10/dist-packages (from xhtml2pdf==0.2.11->data-gradients~=0.3.1->super-gradients) (3.6.13)\n",
            "Requirement already satisfied: svglib>=1.2.1 in /usr/local/lib/python3.10/dist-packages (from xhtml2pdf==0.2.11->data-gradients~=0.3.1->super-gradients) (1.5.1)\n",
            "Requirement already satisfied: wrapt<2,>=1.10 in /usr/local/lib/python3.10/dist-packages (from Deprecated>=1.2.11->super-gradients) (1.16.0)\n",
            "Requirement already satisfied: antlr4-python3-runtime==4.9.* in /usr/local/lib/python3.10/dist-packages (from hydra-core>=1.2.0->super-gradients) (4.9.3)\n",
            "Requirement already satisfied: attrs>=22.2.0 in /usr/local/lib/python3.10/dist-packages (from jsonschema>=3.2.0->super-gradients) (24.2.0)\n",
            "Requirement already satisfied: jsonschema-specifications>=2023.03.6 in /usr/local/lib/python3.10/dist-packages (from jsonschema>=3.2.0->super-gradients) (2023.12.1)\n",
            "Requirement already satisfied: referencing>=0.28.4 in /usr/local/lib/python3.10/dist-packages (from jsonschema>=3.2.0->super-gradients) (0.35.1)\n",
            "Requirement already satisfied: rpds-py>=0.7.1 in /usr/local/lib/python3.10/dist-packages (from jsonschema>=3.2.0->super-gradients) (0.20.0)\n",
            "Requirement already satisfied: contourpy>=1.0.1 in /usr/local/lib/python3.10/dist-packages (from matplotlib>=3.3.4->super-gradients) (1.3.0)\n",
            "Requirement already satisfied: cycler>=0.10 in /usr/local/lib/python3.10/dist-packages (from matplotlib>=3.3.4->super-gradients) (0.12.1)\n",
            "Requirement already satisfied: kiwisolver>=1.0.1 in /usr/local/lib/python3.10/dist-packages (from matplotlib>=3.3.4->super-gradients) (1.4.7)\n",
            "Requirement already satisfied: pyparsing>=2.3.1 in /usr/local/lib/python3.10/dist-packages (from matplotlib>=3.3.4->super-gradients) (3.1.4)\n",
            "Requirement already satisfied: python-dateutil>=2.7 in /usr/local/lib/python3.10/dist-packages (from matplotlib>=3.3.4->super-gradients) (2.8.2)\n",
            "Requirement already satisfied: rich in /usr/local/lib/python3.10/dist-packages (from onnxsim<1.0,>=0.4.3->super-gradients) (13.8.1)\n",
            "Requirement already satisfied: build>=1.0.0 in /usr/local/lib/python3.10/dist-packages (from pip-tools>=6.12.1->super-gradients) (1.2.2)\n",
            "Requirement already satisfied: click>=8 in /usr/local/lib/python3.10/dist-packages (from pip-tools>=6.12.1->super-gradients) (8.1.7)\n",
            "Requirement already satisfied: pip>=22.2 in /usr/local/lib/python3.10/dist-packages (from pip-tools>=6.12.1->super-gradients) (24.1.2)\n",
            "Requirement already satisfied: pyproject-hooks in /usr/local/lib/python3.10/dist-packages (from pip-tools>=6.12.1->super-gradients) (1.1.0)\n",
            "Requirement already satisfied: tomli in /usr/local/lib/python3.10/dist-packages (from pip-tools>=6.12.1->super-gradients) (2.0.1)\n",
            "Requirement already satisfied: sphinxcontrib-applehelp in /usr/local/lib/python3.10/dist-packages (from sphinx~=4.0.2->super-gradients) (2.0.0)\n",
            "Requirement already satisfied: sphinxcontrib-devhelp in /usr/local/lib/python3.10/dist-packages (from sphinx~=4.0.2->super-gradients) (2.0.0)\n",
            "Requirement already satisfied: sphinxcontrib-jsmath in /usr/local/lib/python3.10/dist-packages (from sphinx~=4.0.2->super-gradients) (1.0.1)\n",
            "Requirement already satisfied: sphinxcontrib-htmlhelp in /usr/local/lib/python3.10/dist-packages (from sphinx~=4.0.2->super-gradients) (2.1.0)\n",
            "Requirement already satisfied: sphinxcontrib-serializinghtml in /usr/local/lib/python3.10/dist-packages (from sphinx~=4.0.2->super-gradients) (2.0.0)\n",
            "Requirement already satisfied: sphinxcontrib-qthelp in /usr/local/lib/python3.10/dist-packages (from sphinx~=4.0.2->super-gradients) (2.0.0)\n",
            "Requirement already satisfied: docutils<0.18,>=0.14 in /usr/local/lib/python3.10/dist-packages (from sphinx~=4.0.2->super-gradients) (0.17.1)\n",
            "Requirement already satisfied: snowballstemmer>=1.1 in /usr/local/lib/python3.10/dist-packages (from sphinx~=4.0.2->super-gradients) (2.2.0)\n",
            "Requirement already satisfied: babel>=1.3 in /usr/local/lib/python3.10/dist-packages (from sphinx~=4.0.2->super-gradients) (2.16.0)\n",
            "Requirement already satisfied: alabaster<0.8,>=0.7 in /usr/local/lib/python3.10/dist-packages (from sphinx~=4.0.2->super-gradients) (0.7.16)\n",
            "Requirement already satisfied: imagesize in /usr/local/lib/python3.10/dist-packages (from sphinx~=4.0.2->super-gradients) (1.4.1)\n",
            "Requirement already satisfied: requests>=2.5.0 in /usr/local/lib/python3.10/dist-packages (from sphinx~=4.0.2->super-gradients) (2.32.3)\n",
            "Requirement already satisfied: absl-py>=0.4 in /usr/local/lib/python3.10/dist-packages (from tensorboard>=2.4.1->super-gradients) (1.4.0)\n",
            "Requirement already satisfied: grpcio>=1.48.2 in /usr/local/lib/python3.10/dist-packages (from tensorboard>=2.4.1->super-gradients) (1.64.1)\n",
            "Requirement already satisfied: markdown>=2.6.8 in /usr/local/lib/python3.10/dist-packages (from tensorboard>=2.4.1->super-gradients) (3.7)\n",
            "Requirement already satisfied: six>1.9 in /usr/local/lib/python3.10/dist-packages (from tensorboard>=2.4.1->super-gradients) (1.16.0)\n",
            "Requirement already satisfied: tensorboard-data-server<0.8.0,>=0.7.0 in /usr/local/lib/python3.10/dist-packages (from tensorboard>=2.4.1->super-gradients) (0.7.2)\n",
            "Requirement already satisfied: filelock in /usr/local/lib/python3.10/dist-packages (from torch>=1.9.0->super-gradients) (3.16.1)\n",
            "Requirement already satisfied: typing-extensions>=4.8.0 in /usr/local/lib/python3.10/dist-packages (from torch>=1.9.0->super-gradients) (4.12.2)\n",
            "Requirement already satisfied: networkx in /usr/local/lib/python3.10/dist-packages (from torch>=1.9.0->super-gradients) (3.3)\n",
            "Requirement already satisfied: fsspec in /usr/local/lib/python3.10/dist-packages (from torch>=1.9.0->super-gradients) (2024.6.1)\n",
            "Requirement already satisfied: MarkupSafe>=2.1.1 in /usr/local/lib/python3.10/dist-packages (from werkzeug>=2.3.8->super-gradients) (2.1.5)\n",
            "Requirement already satisfied: sphinxcontrib-jquery<5,>=4 in /usr/local/lib/python3.10/dist-packages (from sphinx-rtd-theme->super-gradients) (4.1)\n",
            "Requirement already satisfied: urllib3!=2.2.0,<3,>=1.25.4 in /usr/local/lib/python3.10/dist-packages (from botocore<1.36.0,>=1.35.29->boto3>=1.17.15->super-gradients) (2.2.3)\n",
            "Requirement already satisfied: scikit-learn>=0.19.1 in /usr/local/lib/python3.10/dist-packages (from qudida>=0.0.4->albumentations~=1.3->super-gradients) (1.5.2)\n",
            "Requirement already satisfied: charset-normalizer<4,>=2 in /usr/local/lib/python3.10/dist-packages (from requests>=2.5.0->sphinx~=4.0.2->super-gradients) (3.3.2)\n",
            "Requirement already satisfied: idna<4,>=2.5 in /usr/local/lib/python3.10/dist-packages (from requests>=2.5.0->sphinx~=4.0.2->super-gradients) (3.7)\n",
            "Requirement already satisfied: certifi>=2017.4.17 in /usr/local/lib/python3.10/dist-packages (from requests>=2.5.0->sphinx~=4.0.2->super-gradients) (2024.8.30)\n",
            "Requirement already satisfied: imageio>=2.33 in /usr/local/lib/python3.10/dist-packages (from scikit-image>=0.16.1->albumentations~=1.3->super-gradients) (2.35.1)\n",
            "Requirement already satisfied: tifffile>=2022.8.12 in /usr/local/lib/python3.10/dist-packages (from scikit-image>=0.16.1->albumentations~=1.3->super-gradients) (2024.9.20)\n",
            "Requirement already satisfied: lazy-loader>=0.4 in /usr/local/lib/python3.10/dist-packages (from scikit-image>=0.16.1->albumentations~=1.3->super-gradients) (0.4)\n",
            "Requirement already satisfied: humanfriendly>=9.1 in /usr/local/lib/python3.10/dist-packages (from coloredlogs->onnxruntime==1.15.0->super-gradients) (10.0)\n",
            "Requirement already satisfied: PyWavelets in /usr/local/lib/python3.10/dist-packages (from imagededup->data-gradients~=0.3.1->super-gradients) (1.7.0)\n",
            "Requirement already satisfied: markdown-it-py>=2.2.0 in /usr/local/lib/python3.10/dist-packages (from rich->onnxsim<1.0,>=0.4.3->super-gradients) (3.0.0)\n",
            "Requirement already satisfied: pandas>=1.2 in /usr/local/lib/python3.10/dist-packages (from seaborn->data-gradients~=0.3.1->super-gradients) (2.1.4)\n",
            "Requirement already satisfied: mpmath<1.4,>=1.1.0 in /usr/local/lib/python3.10/dist-packages (from sympy->onnxruntime==1.15.0->super-gradients) (1.3.0)\n",
            "Requirement already satisfied: webencodings in /usr/local/lib/python3.10/dist-packages (from html5lib>=1.0.1->xhtml2pdf==0.2.11->data-gradients~=0.3.1->super-gradients) (0.5.1)\n",
            "Requirement already satisfied: mdurl~=0.1 in /usr/local/lib/python3.10/dist-packages (from markdown-it-py>=2.2.0->rich->onnxsim<1.0,>=0.4.3->super-gradients) (0.1.2)\n",
            "Requirement already satisfied: pytz>=2020.1 in /usr/local/lib/python3.10/dist-packages (from pandas>=1.2->seaborn->data-gradients~=0.3.1->super-gradients) (2024.2)\n",
            "Requirement already satisfied: tzdata>=2022.1 in /usr/local/lib/python3.10/dist-packages (from pandas>=1.2->seaborn->data-gradients~=0.3.1->super-gradients) (2024.1)\n",
            "Requirement already satisfied: asn1crypto>=1.5.1 in /usr/local/lib/python3.10/dist-packages (from pyHanko>=0.12.1->xhtml2pdf==0.2.11->data-gradients~=0.3.1->super-gradients) (1.5.1)\n",
            "Requirement already satisfied: qrcode>=7.3.1 in /usr/local/lib/python3.10/dist-packages (from pyHanko>=0.12.1->xhtml2pdf==0.2.11->data-gradients~=0.3.1->super-gradients) (7.4.2)\n",
            "Requirement already satisfied: tzlocal>=4.3 in /usr/local/lib/python3.10/dist-packages (from pyHanko>=0.12.1->xhtml2pdf==0.2.11->data-gradients~=0.3.1->super-gradients) (5.2)\n",
            "Requirement already satisfied: cryptography>=42.0.1 in /usr/local/lib/python3.10/dist-packages (from pyHanko>=0.12.1->xhtml2pdf==0.2.11->data-gradients~=0.3.1->super-gradients) (43.0.1)\n",
            "Requirement already satisfied: oscrypto>=1.1.0 in /usr/local/lib/python3.10/dist-packages (from pyhanko-certvalidator>=0.19.5->xhtml2pdf==0.2.11->data-gradients~=0.3.1->super-gradients) (1.3.0)\n",
            "Requirement already satisfied: uritools>=3.0.1 in /usr/local/lib/python3.10/dist-packages (from pyhanko-certvalidator>=0.19.5->xhtml2pdf==0.2.11->data-gradients~=0.3.1->super-gradients) (4.0.3)\n",
            "Requirement already satisfied: joblib>=1.2.0 in /usr/local/lib/python3.10/dist-packages (from scikit-learn>=0.19.1->qudida>=0.0.4->albumentations~=1.3->super-gradients) (1.4.2)\n",
            "Requirement already satisfied: threadpoolctl>=3.1.0 in /usr/local/lib/python3.10/dist-packages (from scikit-learn>=0.19.1->qudida>=0.0.4->albumentations~=1.3->super-gradients) (3.5.0)\n",
            "Requirement already satisfied: lxml in /usr/local/lib/python3.10/dist-packages (from svglib>=1.2.1->xhtml2pdf==0.2.11->data-gradients~=0.3.1->super-gradients) (4.9.4)\n",
            "Requirement already satisfied: tinycss2>=0.6.0 in /usr/local/lib/python3.10/dist-packages (from svglib>=1.2.1->xhtml2pdf==0.2.11->data-gradients~=0.3.1->super-gradients) (1.3.0)\n",
            "Requirement already satisfied: cssselect2>=0.2.0 in /usr/local/lib/python3.10/dist-packages (from svglib>=1.2.1->xhtml2pdf==0.2.11->data-gradients~=0.3.1->super-gradients) (0.7.0)\n",
            "Requirement already satisfied: cffi>=1.12 in /usr/local/lib/python3.10/dist-packages (from cryptography>=42.0.1->pyHanko>=0.12.1->xhtml2pdf==0.2.11->data-gradients~=0.3.1->super-gradients) (1.17.1)\n",
            "Requirement already satisfied: pypng in /usr/local/lib/python3.10/dist-packages (from qrcode>=7.3.1->pyHanko>=0.12.1->xhtml2pdf==0.2.11->data-gradients~=0.3.1->super-gradients) (0.20220715.0)\n",
            "Requirement already satisfied: pycparser in /usr/local/lib/python3.10/dist-packages (from cffi>=1.12->cryptography>=42.0.1->pyHanko>=0.12.1->xhtml2pdf==0.2.11->data-gradients~=0.3.1->super-gradients) (2.22)\n"
          ]
        }
      ]
    },
    {
      "cell_type": "code",
      "execution_count": 2,
      "metadata": {
        "colab": {
          "base_uri": "https://localhost:8080/"
        },
        "collapsed": true,
        "id": "UndThJj0KDjx",
        "outputId": "11e328d1-e5aa-40b0-bf2b-0cb31da2e4dc"
      },
      "outputs": [
        {
          "output_type": "stream",
          "name": "stdout",
          "text": [
            "Requirement already satisfied: datasets in /usr/local/lib/python3.10/dist-packages (3.0.1)\n",
            "Requirement already satisfied: roboflow in /usr/local/lib/python3.10/dist-packages (1.1.45)\n",
            "Requirement already satisfied: pybboxes in /usr/local/lib/python3.10/dist-packages (0.1.6)\n",
            "Requirement already satisfied: pillow in /usr/local/lib/python3.10/dist-packages (10.4.0)\n",
            "Requirement already satisfied: pyyaml in /usr/local/lib/python3.10/dist-packages (6.0.2)\n",
            "Requirement already satisfied: scikit-learn in /usr/local/lib/python3.10/dist-packages (1.5.2)\n",
            "Requirement already satisfied: filelock in /usr/local/lib/python3.10/dist-packages (from datasets) (3.16.1)\n",
            "Requirement already satisfied: numpy>=1.17 in /usr/local/lib/python3.10/dist-packages (from datasets) (1.23.0)\n",
            "Requirement already satisfied: pyarrow>=15.0.0 in /usr/local/lib/python3.10/dist-packages (from datasets) (17.0.0)\n",
            "Requirement already satisfied: dill<0.3.9,>=0.3.0 in /usr/local/lib/python3.10/dist-packages (from datasets) (0.3.8)\n",
            "Requirement already satisfied: pandas in /usr/local/lib/python3.10/dist-packages (from datasets) (2.1.4)\n",
            "Requirement already satisfied: requests>=2.32.2 in /usr/local/lib/python3.10/dist-packages (from datasets) (2.32.3)\n",
            "Requirement already satisfied: tqdm>=4.66.3 in /usr/local/lib/python3.10/dist-packages (from datasets) (4.66.5)\n",
            "Requirement already satisfied: xxhash in /usr/local/lib/python3.10/dist-packages (from datasets) (3.5.0)\n",
            "Requirement already satisfied: multiprocess in /usr/local/lib/python3.10/dist-packages (from datasets) (0.70.16)\n",
            "Requirement already satisfied: fsspec<=2024.6.1,>=2023.1.0 in /usr/local/lib/python3.10/dist-packages (from fsspec[http]<=2024.6.1,>=2023.1.0->datasets) (2024.6.1)\n",
            "Requirement already satisfied: aiohttp in /usr/local/lib/python3.10/dist-packages (from datasets) (3.10.5)\n",
            "Requirement already satisfied: huggingface-hub>=0.22.0 in /usr/local/lib/python3.10/dist-packages (from datasets) (0.24.7)\n",
            "Requirement already satisfied: packaging in /usr/local/lib/python3.10/dist-packages (from datasets) (24.1)\n",
            "Requirement already satisfied: certifi in /usr/local/lib/python3.10/dist-packages (from roboflow) (2024.8.30)\n",
            "Requirement already satisfied: idna==3.7 in /usr/local/lib/python3.10/dist-packages (from roboflow) (3.7)\n",
            "Requirement already satisfied: cycler in /usr/local/lib/python3.10/dist-packages (from roboflow) (0.12.1)\n",
            "Requirement already satisfied: kiwisolver>=1.3.1 in /usr/local/lib/python3.10/dist-packages (from roboflow) (1.4.7)\n",
            "Requirement already satisfied: matplotlib in /usr/local/lib/python3.10/dist-packages (from roboflow) (3.7.1)\n",
            "Requirement already satisfied: opencv-python-headless==4.10.0.84 in /usr/local/lib/python3.10/dist-packages (from roboflow) (4.10.0.84)\n",
            "Requirement already satisfied: python-dateutil in /usr/local/lib/python3.10/dist-packages (from roboflow) (2.8.2)\n",
            "Requirement already satisfied: python-dotenv in /usr/local/lib/python3.10/dist-packages (from roboflow) (1.0.1)\n",
            "Requirement already satisfied: six in /usr/local/lib/python3.10/dist-packages (from roboflow) (1.16.0)\n",
            "Requirement already satisfied: urllib3>=1.26.6 in /usr/local/lib/python3.10/dist-packages (from roboflow) (2.2.3)\n",
            "Requirement already satisfied: requests-toolbelt in /usr/local/lib/python3.10/dist-packages (from roboflow) (1.0.0)\n",
            "Requirement already satisfied: filetype in /usr/local/lib/python3.10/dist-packages (from roboflow) (1.2.0)\n",
            "Requirement already satisfied: scipy>=1.6.0 in /usr/local/lib/python3.10/dist-packages (from scikit-learn) (1.13.1)\n",
            "Requirement already satisfied: joblib>=1.2.0 in /usr/local/lib/python3.10/dist-packages (from scikit-learn) (1.4.2)\n",
            "Requirement already satisfied: threadpoolctl>=3.1.0 in /usr/local/lib/python3.10/dist-packages (from scikit-learn) (3.5.0)\n",
            "Requirement already satisfied: aiohappyeyeballs>=2.3.0 in /usr/local/lib/python3.10/dist-packages (from aiohttp->datasets) (2.4.0)\n",
            "Requirement already satisfied: aiosignal>=1.1.2 in /usr/local/lib/python3.10/dist-packages (from aiohttp->datasets) (1.3.1)\n",
            "Requirement already satisfied: attrs>=17.3.0 in /usr/local/lib/python3.10/dist-packages (from aiohttp->datasets) (24.2.0)\n",
            "Requirement already satisfied: frozenlist>=1.1.1 in /usr/local/lib/python3.10/dist-packages (from aiohttp->datasets) (1.4.1)\n",
            "Requirement already satisfied: multidict<7.0,>=4.5 in /usr/local/lib/python3.10/dist-packages (from aiohttp->datasets) (6.1.0)\n",
            "Requirement already satisfied: yarl<2.0,>=1.0 in /usr/local/lib/python3.10/dist-packages (from aiohttp->datasets) (1.11.1)\n",
            "Requirement already satisfied: async-timeout<5.0,>=4.0 in /usr/local/lib/python3.10/dist-packages (from aiohttp->datasets) (4.0.3)\n",
            "Requirement already satisfied: typing-extensions>=3.7.4.3 in /usr/local/lib/python3.10/dist-packages (from huggingface-hub>=0.22.0->datasets) (4.12.2)\n",
            "Requirement already satisfied: charset-normalizer<4,>=2 in /usr/local/lib/python3.10/dist-packages (from requests>=2.32.2->datasets) (3.3.2)\n",
            "Requirement already satisfied: contourpy>=1.0.1 in /usr/local/lib/python3.10/dist-packages (from matplotlib->roboflow) (1.3.0)\n",
            "Requirement already satisfied: fonttools>=4.22.0 in /usr/local/lib/python3.10/dist-packages (from matplotlib->roboflow) (4.53.1)\n",
            "Requirement already satisfied: pyparsing>=2.3.1 in /usr/local/lib/python3.10/dist-packages (from matplotlib->roboflow) (3.1.4)\n",
            "Requirement already satisfied: pytz>=2020.1 in /usr/local/lib/python3.10/dist-packages (from pandas->datasets) (2024.2)\n",
            "Requirement already satisfied: tzdata>=2022.1 in /usr/local/lib/python3.10/dist-packages (from pandas->datasets) (2024.1)\n"
          ]
        }
      ],
      "source": [
        "!pip install datasets roboflow pybboxes pillow pyyaml scikit-learn"
      ]
    },
    {
      "cell_type": "code",
      "source": [
        "\n",
        "import os\n",
        "import shutil\n",
        "import zipfile\n",
        "import json\n",
        "import random\n",
        "import yaml\n",
        "from PIL import Image\n",
        "from roboflow import Roboflow\n",
        "from sklearn.model_selection import train_test_split\n",
        "import pybboxes as pbx\n",
        "import glob\n",
        "from collections import defaultdict\n",
        "import matplotlib.pyplot as plt\n",
        "from getpass import getpass\n",
        "\n",
        "from super_gradients.training import dataloaders\n",
        "from super_gradients.training.dataloaders.dataloaders import coco_detection_yolo_format_train, coco_detection_yolo_format_val\n"
      ],
      "metadata": {
        "id": "tPh4TDizOgx_"
      },
      "execution_count": 31,
      "outputs": []
    },
    {
      "cell_type": "code",
      "source": [
        "base_dir = '/content/YoloNAS_Project/'\n",
        "os.makedirs(base_dir, exist_ok=True)"
      ],
      "metadata": {
        "id": "V-YUmXjpOg0M"
      },
      "execution_count": 26,
      "outputs": []
    },
    {
      "cell_type": "code",
      "source": [
        "def download_huggingface_dataset(save_dir):\n",
        "    \"\"\"\n",
        "    Downloads the Hugging Face dataset and organizes it into images and labels directories.\n",
        "    \"\"\"\n",
        "    os.makedirs(save_dir, exist_ok=True)\n",
        "\n",
        "    # Load the dataset\n",
        "    ds = load_dataset(\"keremberke/forklift-object-detection\", name=\"full\")\n",
        "\n",
        "    # Create directories for each split\n",
        "    for split in ds.keys():\n",
        "        split_path = os.path.join(save_dir, split)\n",
        "        images_path = os.path.join(split_path, 'images')\n",
        "        labels_path = os.path.join(split_path, 'labels')\n",
        "        os.makedirs(images_path, exist_ok=True)\n",
        "        os.makedirs(labels_path, exist_ok=True)\n",
        "\n",
        "        # Process each example in the split\n",
        "        for example in ds[split]:\n",
        "            # Download and save the image\n",
        "            image_url = example['image']\n",
        "            image_filename = os.path.basename(image_url)\n",
        "            image_path = os.path.join(images_path, image_filename)\n",
        "            if not os.path.exists(image_path):\n",
        "                !wget -q {image_url} -O {image_path}\n",
        "\n",
        "            # Save annotations\n",
        "            annotation_filename = os.path.splitext(image_filename)[0] + '.txt'\n",
        "            label_path = os.path.join(labels_path, annotation_filename)\n",
        "            with open(label_path, 'w') as f:\n",
        "                for obj in example['objects']:\n",
        "                    class_id = obj['category_id'] - 1  # Assuming category_id starts at 1\n",
        "                    bbox = obj['bbox']  # [x, y, width, height]\n",
        "                    # YOLO format requires normalized coordinates, which we'll handle later\n",
        "                    f.write(f\"{class_id} {bbox[0]} {bbox[1]} {bbox[2]} {bbox[3]}\\n\")\n",
        "\n",
        "    print(f\"Hugging Face dataset downloaded and saved to {save_dir}\")"
      ],
      "metadata": {
        "id": "NGHIDLcIOg3F"
      },
      "execution_count": 5,
      "outputs": []
    },
    {
      "cell_type": "code",
      "source": [
        "# # Define the path to save the Hugging Face dataset\n",
        "# hf_save_dir = os.path.join(base_dir, 'huggingface_forklift')\n",
        "# download_huggingface_dataset(hf_save_dir)"
      ],
      "metadata": {
        "id": "8cr3ToKiOg5T"
      },
      "execution_count": 6,
      "outputs": []
    },
    {
      "cell_type": "markdown",
      "source": [
        "## Roboflow dataset"
      ],
      "metadata": {
        "id": "_OZk8tRSeNYD"
      }
    },
    {
      "cell_type": "code",
      "source": [
        "def download_roboflow_datasets(api_key, save_dir):\n",
        "    \"\"\"\n",
        "    Downloads multiple Roboflow datasets and organizes them into separate directories.\n",
        "    \"\"\"\n",
        "    rf = Roboflow(api_key=api_key)\n",
        "\n",
        "    # Define datasets to download\n",
        "    roboflow_datasets = [\n",
        "        {\n",
        "            \"workspace\": \"hitsz\",\n",
        "            \"project\": \"forklift-and-human\",\n",
        "            \"version\": \"2\"  # Changed to version 2 as per your working code\n",
        "        },\n",
        "        {\n",
        "            \"workspace\": \"paft\",\n",
        "            \"project\": \"forklift-model\",\n",
        "            \"version\": \"1\"\n",
        "        },\n",
        "        {\n",
        "            \"workspace\": \"uqtr-2v1ej\",\n",
        "            \"project\": \"forklift-9rs9h\",\n",
        "            \"version\": \"1\"\n",
        "        }\n",
        "    ]\n",
        "\n",
        "    # Iterate over each dataset and download\n",
        "    for ds_info in roboflow_datasets:\n",
        "        workspace = ds_info[\"workspace\"]\n",
        "        project = ds_info[\"project\"]\n",
        "        version = ds_info[\"version\"]\n",
        "\n",
        "        print(f\"Downloading Roboflow dataset: {workspace}/{project}/v{version}\")\n",
        "        project_rf = rf.workspace(workspace).project(project)\n",
        "        dataset = project_rf.version(int(version)).download(\"yolov5\")  # Ensure version is an integer\n",
        "\n",
        "        # Move dataset to specific folder\n",
        "        destination = os.path.join(save_dir, f\"{project}_v{version}\")\n",
        "        os.makedirs(destination, exist_ok=True)\n",
        "        for item in os.listdir(dataset.location):\n",
        "            s = os.path.join(dataset.location, item)\n",
        "            d = os.path.join(destination, item)\n",
        "            if os.path.isdir(s):\n",
        "                shutil.move(s, d)\n",
        "            else:\n",
        "                shutil.move(s, d)\n",
        "\n",
        "    print(f\"All Roboflow datasets downloaded and saved to {save_dir}\")"
      ],
      "metadata": {
        "id": "ruY4nfV6wDDC"
      },
      "execution_count": 27,
      "outputs": []
    },
    {
      "cell_type": "code",
      "source": [
        "def extract_zip_datasets(rf_dir):\n",
        "    \"\"\"\n",
        "    Extracts all .zip files within the Roboflow directory.\n",
        "    \"\"\"\n",
        "    zip_files = glob.glob(os.path.join(rf_dir, '*', '*.zip'))\n",
        "    for zip_file in zip_files:\n",
        "        print(f\"Extracting {zip_file}\")\n",
        "        with zipfile.ZipFile(zip_file, 'r') as zip_ref:\n",
        "            # Extract to the same directory as the zip file\n",
        "            extract_path = os.path.splitext(zip_file)[0]\n",
        "            zip_ref.extractall(extract_path)\n",
        "        print(f\"Extracted to {extract_path}\")\n",
        "\n",
        "        # Optionally, remove the zip file after extraction\n",
        "        os.remove(zip_file)\n",
        "        print(f\"Removed zip file: {zip_file}\")"
      ],
      "metadata": {
        "id": "V5UzuL3B0p0Q"
      },
      "execution_count": 29,
      "outputs": []
    },
    {
      "cell_type": "code",
      "source": [
        "def merge_datasets(rf_dir, merged_dir):\n",
        "    \"\"\"\n",
        "    Merges multiple Roboflow datasets into unified train, valid, and test directories.\n",
        "    \"\"\"\n",
        "    os.makedirs(merged_dir, exist_ok=True)\n",
        "    merged_images = os.path.join(merged_dir, 'images')\n",
        "    merged_labels = os.path.join(merged_dir, 'labels')\n",
        "    os.makedirs(merged_images, exist_ok=True)\n",
        "    os.makedirs(merged_labels, exist_ok=True)\n",
        "\n",
        "    # Define splits\n",
        "    splits = ['train', 'valid', 'test']\n",
        "\n",
        "    for split in splits:\n",
        "        split_images_dest = os.path.join(merged_images, split)\n",
        "        split_labels_dest = os.path.join(merged_labels, split)\n",
        "        os.makedirs(split_images_dest, exist_ok=True)\n",
        "        os.makedirs(split_labels_dest, exist_ok=True)\n",
        "\n",
        "        # Iterate through each dataset\n",
        "        roboflow_projects = os.listdir(rf_dir)\n",
        "        for project in roboflow_projects:\n",
        "            project_dir = os.path.join(rf_dir, project)\n",
        "\n",
        "            # Determine the path based on whether 'images' is inside 'train', 'valid', 'test'\n",
        "            project_split_images = os.path.join(project_dir, 'images', split)\n",
        "            project_split_labels = os.path.join(project_dir, 'labels', split)\n",
        "\n",
        "            # If not found, try alternative structure\n",
        "            if not os.path.exists(project_split_images):\n",
        "                project_split_images = os.path.join(project_dir, split, 'images')\n",
        "            if not os.path.exists(project_split_labels):\n",
        "                project_split_labels = os.path.join(project_dir, split, 'labels')\n",
        "\n",
        "            if not os.path.exists(project_split_images):\n",
        "                print(f\"Warning: {project_split_images} does not exist.\")\n",
        "                continue\n",
        "            if not os.path.exists(project_split_labels):\n",
        "                print(f\"Warning: {project_split_labels} does not exist.\")\n",
        "                continue\n",
        "\n",
        "            # Copy images\n",
        "            for img_file in os.listdir(project_split_images):\n",
        "                if img_file.endswith(('.jpg', '.png', '.jpeg')):\n",
        "                    src_img = os.path.join(project_split_images, img_file)\n",
        "                    dest_img = os.path.join(split_images_dest, img_file)\n",
        "                    if not os.path.exists(dest_img):\n",
        "                        shutil.copy(src_img, dest_img)\n",
        "\n",
        "            # Copy labels\n",
        "            for label_file in os.listdir(project_split_labels):\n",
        "                if label_file.endswith('.txt'):\n",
        "                    src_label = os.path.join(project_split_labels, label_file)\n",
        "                    dest_label = os.path.join(split_labels_dest, label_file)\n",
        "                    if not os.path.exists(dest_label):\n",
        "                        shutil.copy(src_label, dest_label)\n",
        "\n",
        "    print(f\"All datasets merged into {merged_dir}\")"
      ],
      "metadata": {
        "id": "DmrKhMkg0wXg"
      },
      "execution_count": 30,
      "outputs": []
    },
    {
      "cell_type": "code",
      "source": [
        "roboflow_api_key = getpass('Enter your Roboflow API Key: ')\n",
        "\n",
        "# Define the path to save Roboflow datasets\n",
        "rf_save_dir = os.path.join(base_dir, 'roboflow')\n",
        "os.makedirs(rf_save_dir, exist_ok=True)\n",
        "\n",
        "# Download Roboflow datasets\n",
        "download_roboflow_datasets(roboflow_api_key, rf_save_dir)\n",
        "\n",
        "# Extract all zip files in the Roboflow directory\n",
        "extract_zip_datasets(rf_save_dir)\n",
        "\n",
        "# Merge datasets into a unified directory\n",
        "merged_dataset_dir = os.path.join(base_dir, 'merged_dataset')\n",
        "os.makedirs(merged_dataset_dir, exist_ok=True)\n",
        "\n",
        "merge_datasets(rf_save_dir, merged_dataset_dir)"
      ],
      "metadata": {
        "colab": {
          "base_uri": "https://localhost:8080/"
        },
        "id": "ZuSivRMv0wdI",
        "outputId": "04c7e01e-3fdf-4f2e-a926-3118e8a644fd"
      },
      "execution_count": 33,
      "outputs": [
        {
          "output_type": "stream",
          "name": "stdout",
          "text": [
            "Warning: /content/YoloNAS_Project/roboflow/forklift-and-human_v2/train/images does not exist.\n",
            "Warning: /content/YoloNAS_Project/roboflow/forklift-and-human_v2/valid/images does not exist.\n",
            "Warning: /content/YoloNAS_Project/roboflow/forklift-model_v1/test/images does not exist.\n",
            "Warning: /content/YoloNAS_Project/roboflow/forklift-and-human_v2/test/images does not exist.\n",
            "All datasets merged into /content/YoloNAS_Project/merged_dataset\n"
          ]
        }
      ]
    },
    {
      "cell_type": "markdown",
      "source": [
        "# Investigate dataset"
      ],
      "metadata": {
        "id": "GVoPjtdH1P47"
      }
    },
    {
      "cell_type": "code",
      "source": [
        "def count_instances(merged_labels_dir, classes):\n",
        "    \"\"\"\n",
        "    Counts the number of instances per class in each split.\n",
        "\n",
        "    Parameters:\n",
        "    - merged_labels_dir (str): Directory containing label files organized by split.\n",
        "    - classes (list): List of class names.\n",
        "\n",
        "    Returns:\n",
        "    - stats (dict): Nested dictionary with counts per split and per class.\n",
        "    \"\"\"\n",
        "    stats = {\n",
        "        'train': defaultdict(int),\n",
        "        'valid': defaultdict(int),\n",
        "        'test': defaultdict(int)\n",
        "    }\n",
        "\n",
        "    splits = ['train', 'valid', 'test']\n",
        "\n",
        "    for split in splits:\n",
        "        split_labels_dir = os.path.join(merged_labels_dir, split)\n",
        "        if not os.path.exists(split_labels_dir):\n",
        "            print(f\"Warning: {split_labels_dir} does not exist.\")\n",
        "            continue\n",
        "        for label_file in os.listdir(split_labels_dir):\n",
        "            if label_file.endswith('.txt'):\n",
        "                label_path = os.path.join(split_labels_dir, label_file)\n",
        "                with open(label_path, 'r') as lf:\n",
        "                    lines = lf.readlines()\n",
        "                for line in lines:\n",
        "                    parts = line.strip().split()\n",
        "                    if len(parts) < 5:\n",
        "                        continue  # Invalid label format\n",
        "                    class_id = int(parts[0])\n",
        "                    class_name = classes[class_id] if class_id < len(classes) else \"Unknown\"\n",
        "                    stats[split][class_name] += 1\n",
        "\n",
        "    return stats"
      ],
      "metadata": {
        "id": "Pao_dBug0we0"
      },
      "execution_count": 34,
      "outputs": []
    },
    {
      "cell_type": "code",
      "source": [
        "# Load updated class names from dataset.yaml\n",
        "dataset_yaml_path = os.path.join(merged_dataset_dir, 'dataset.yaml')\n",
        "with open(dataset_yaml_path, 'r') as f:\n",
        "    dataset_yaml = yaml.safe_load(f)\n",
        "\n",
        "classes = dataset_yaml['names']\n",
        "\n",
        "# Count instances\n",
        "stats = count_instances(merged_labels_dir, classes)\n",
        "\n",
        "# Display statistics\n",
        "for split in ['train', 'valid', 'test']:\n",
        "    print(f\"\\n--- {split.capitalize()} Set ---\")\n",
        "    total = sum(stats[split].values())\n",
        "    print(f\"Total Instances: {total}\")\n",
        "    for class_name, count in stats[split].items():\n",
        "        print(f\" - {class_name}: {count}\")"
      ],
      "metadata": {
        "colab": {
          "base_uri": "https://localhost:8080/",
          "height": 211
        },
        "id": "gph1pCPY0wgn",
        "outputId": "230bb75f-fd17-4f22-c597-ab03228b9cb0"
      },
      "execution_count": 35,
      "outputs": [
        {
          "output_type": "error",
          "ename": "FileNotFoundError",
          "evalue": "[Errno 2] No such file or directory: '/content/YoloNAS_Project/merged_dataset/dataset.yaml'",
          "traceback": [
            "\u001b[0;31m---------------------------------------------------------------------------\u001b[0m",
            "\u001b[0;31mFileNotFoundError\u001b[0m                         Traceback (most recent call last)",
            "\u001b[0;32m<ipython-input-35-94bff2067b7f>\u001b[0m in \u001b[0;36m<cell line: 3>\u001b[0;34m()\u001b[0m\n\u001b[1;32m      1\u001b[0m \u001b[0;31m# Load updated class names from dataset.yaml\u001b[0m\u001b[0;34m\u001b[0m\u001b[0;34m\u001b[0m\u001b[0m\n\u001b[1;32m      2\u001b[0m \u001b[0mdataset_yaml_path\u001b[0m \u001b[0;34m=\u001b[0m \u001b[0mos\u001b[0m\u001b[0;34m.\u001b[0m\u001b[0mpath\u001b[0m\u001b[0;34m.\u001b[0m\u001b[0mjoin\u001b[0m\u001b[0;34m(\u001b[0m\u001b[0mmerged_dataset_dir\u001b[0m\u001b[0;34m,\u001b[0m \u001b[0;34m'dataset.yaml'\u001b[0m\u001b[0;34m)\u001b[0m\u001b[0;34m\u001b[0m\u001b[0;34m\u001b[0m\u001b[0m\n\u001b[0;32m----> 3\u001b[0;31m \u001b[0;32mwith\u001b[0m \u001b[0mopen\u001b[0m\u001b[0;34m(\u001b[0m\u001b[0mdataset_yaml_path\u001b[0m\u001b[0;34m,\u001b[0m \u001b[0;34m'r'\u001b[0m\u001b[0;34m)\u001b[0m \u001b[0;32mas\u001b[0m \u001b[0mf\u001b[0m\u001b[0;34m:\u001b[0m\u001b[0;34m\u001b[0m\u001b[0;34m\u001b[0m\u001b[0m\n\u001b[0m\u001b[1;32m      4\u001b[0m     \u001b[0mdataset_yaml\u001b[0m \u001b[0;34m=\u001b[0m \u001b[0myaml\u001b[0m\u001b[0;34m.\u001b[0m\u001b[0msafe_load\u001b[0m\u001b[0;34m(\u001b[0m\u001b[0mf\u001b[0m\u001b[0;34m)\u001b[0m\u001b[0;34m\u001b[0m\u001b[0;34m\u001b[0m\u001b[0m\n\u001b[1;32m      5\u001b[0m \u001b[0;34m\u001b[0m\u001b[0m\n",
            "\u001b[0;31mFileNotFoundError\u001b[0m: [Errno 2] No such file or directory: '/content/YoloNAS_Project/merged_dataset/dataset.yaml'"
          ]
        }
      ]
    },
    {
      "cell_type": "code",
      "source": [],
      "metadata": {
        "id": "V8gWMgG30wih"
      },
      "execution_count": null,
      "outputs": []
    },
    {
      "cell_type": "code",
      "source": [],
      "metadata": {
        "id": "rnSE1zmz0wkQ"
      },
      "execution_count": null,
      "outputs": []
    },
    {
      "cell_type": "code",
      "source": [],
      "metadata": {
        "id": "ZznA2J_o0wl2"
      },
      "execution_count": null,
      "outputs": []
    },
    {
      "cell_type": "code",
      "source": [],
      "metadata": {
        "id": "uVZAXWsC0wnp"
      },
      "execution_count": null,
      "outputs": []
    },
    {
      "cell_type": "code",
      "source": [],
      "metadata": {
        "id": "XMqs2x0i0wqA"
      },
      "execution_count": null,
      "outputs": []
    },
    {
      "cell_type": "code",
      "source": [
        "def organize_datasets(rf_dir, merged_dir):\n",
        "    \"\"\"\n",
        "    Merges multiple Roboflow datasets into a single directory with images and labels.\n",
        "    \"\"\"\n",
        "    os.makedirs(merged_dir, exist_ok=True)\n",
        "    merged_images = os.path.join(merged_dir, 'images')\n",
        "    merged_labels = os.path.join(merged_dir, 'labels')\n",
        "    os.makedirs(merged_images, exist_ok=True)\n",
        "    os.makedirs(merged_labels, exist_ok=True)\n",
        "\n",
        "    # Function to copy files\n",
        "    def copy_files(src_images, src_labels):\n",
        "        for img_file in os.listdir(src_images):\n",
        "            if img_file.endswith(('.jpg', '.png', '.jpeg')):\n",
        "                # Copy image\n",
        "                src_img_path = os.path.join(src_images, img_file)\n",
        "                dest_img_path = os.path.join(merged_images, img_file)\n",
        "                if not os.path.exists(dest_img_path):\n",
        "                    shutil.copy(src_img_path, dest_img_path)\n",
        "\n",
        "                # Copy label\n",
        "                label_file = os.path.splitext(img_file)[0] + '.txt'\n",
        "                src_label_path = os.path.join(src_labels, label_file)\n",
        "                dest_label_path = os.path.join(merged_labels, label_file)\n",
        "                if os.path.exists(src_label_path) and not os.path.exists(dest_label_path):\n",
        "                    shutil.copy(src_label_path, dest_label_path)\n",
        "\n",
        "    # Iterate over each Roboflow project\n",
        "    roboflow_projects = os.listdir(rf_dir)\n",
        "    for project in roboflow_projects:\n",
        "        project_dir = os.path.join(rf_dir, project)\n",
        "        for split in ['train', 'valid', 'test']:\n",
        "            split_dir = os.path.join(project_dir, split)\n",
        "            if os.path.exists(split_dir):\n",
        "                src_images = os.path.join(split_dir, 'images')\n",
        "                src_labels = os.path.join(split_dir, 'labels')\n",
        "                copy_files(src_images, src_labels)\n",
        "\n",
        "    print(f\"Datasets merged and saved to {merged_dir}\")"
      ],
      "metadata": {
        "id": "r6lh0Rwugp3z"
      },
      "execution_count": 8,
      "outputs": []
    },
    {
      "cell_type": "code",
      "source": [
        "# Define merged dataset directory\n",
        "merged_dataset_dir = os.path.join(base_dir, 'merged')\n",
        "\n",
        "# Organize datasets\n",
        "organize_datasets(rf_save_dir, merged_dataset_dir)"
      ],
      "metadata": {
        "colab": {
          "base_uri": "https://localhost:8080/"
        },
        "id": "QLRD7vVGgp6P",
        "outputId": "fd6a36e7-ced3-43b8-d359-b81bbf63300c"
      },
      "execution_count": 9,
      "outputs": [
        {
          "output_type": "stream",
          "name": "stdout",
          "text": [
            "Datasets merged and saved to /content/YoloNAS_Project/merged\n"
          ]
        }
      ]
    },
    {
      "cell_type": "code",
      "source": [
        "def create_dataset(merged_dir, dataset_params, split_ratios=(0.7, 0.2, 0.1), move_files=False):\n",
        "    \"\"\"\n",
        "    Create a dataset structure for training, validation, and test sets with images and YOLO labels.\n",
        "\n",
        "    Parameters:\n",
        "    - merged_dir (str): Directory containing merged images and labels.\n",
        "    - dataset_params (dict): Dictionary defining the dataset structure and paths.\n",
        "    - split_ratios (tuple): Ratios for splitting the dataset into (train, valid, test).\n",
        "    - move_files (bool): Whether to move files instead of copying.\n",
        "    \"\"\"\n",
        "    # Create directories for train, val, test\n",
        "    for dir_path in [dataset_params['train_images_dir'], dataset_params['train_labels_dir'],\n",
        "                     dataset_params['val_images_dir'], dataset_params['val_labels_dir'],\n",
        "                     dataset_params['test_images_dir'], dataset_params['test_labels_dir']]:\n",
        "        full_path = os.path.join(dataset_params['data_dir'], dir_path)\n",
        "        os.makedirs(full_path, exist_ok=True)\n",
        "\n",
        "    # Get list of image files\n",
        "    images_dir = os.path.join(merged_dir, 'images')\n",
        "    labels_dir = os.path.join(merged_dir, 'labels')\n",
        "    image_files = [f for f in os.listdir(images_dir) if f.endswith(('.jpg', '.png', '.jpeg'))]\n",
        "\n",
        "    # Shuffle images\n",
        "    random.seed(42)\n",
        "    random.shuffle(image_files)\n",
        "\n",
        "    # Split indices\n",
        "    train_end = int(len(image_files) * split_ratios[0])\n",
        "    val_end = train_end + int(len(image_files) * split_ratios[1])\n",
        "\n",
        "    train_files = image_files[:train_end]\n",
        "    val_files = image_files[train_end:val_end]\n",
        "    test_files = image_files[val_end:]\n",
        "\n",
        "    # Function to copy or move files\n",
        "    def copy_move_files(file_list, src_images, src_labels, dest_images, dest_labels):\n",
        "        for img_file in file_list:\n",
        "            src_img_path = os.path.join(src_images, img_file)\n",
        "            dest_img_path = os.path.join(dest_images, img_file)\n",
        "            src_label_path = os.path.join(src_labels, os.path.splitext(img_file)[0] + '.txt')\n",
        "            dest_label_path = os.path.join(dest_labels, os.path.splitext(img_file)[0] + '.txt')\n",
        "\n",
        "            # Copy or move image\n",
        "            if move_files:\n",
        "                shutil.move(src_img_path, dest_img_path)\n",
        "            else:\n",
        "                shutil.copy(src_img_path, dest_img_path)\n",
        "\n",
        "            # Copy or move label if it exists\n",
        "            if os.path.exists(src_label_path):\n",
        "                if move_files:\n",
        "                    shutil.move(src_label_path, dest_label_path)\n",
        "                else:\n",
        "                    shutil.copy(src_label_path, dest_label_path)\n",
        "            else:\n",
        "                print(f\"Warning: Label file does not exist for image {img_file}\")\n",
        "\n",
        "    # Define source and destination directories\n",
        "    src_images = images_dir\n",
        "    src_labels = labels_dir\n",
        "\n",
        "    dest_train_images = os.path.join(dataset_params['data_dir'], dataset_params['train_images_dir'])\n",
        "    dest_train_labels = os.path.join(dataset_params['data_dir'], dataset_params['train_labels_dir'])\n",
        "    dest_val_images = os.path.join(dataset_params['data_dir'], dataset_params['val_images_dir'])\n",
        "    dest_val_labels = os.path.join(dataset_params['data_dir'], dataset_params['val_labels_dir'])\n",
        "    dest_test_images = os.path.join(dataset_params['data_dir'], dataset_params['test_images_dir'])\n",
        "    dest_test_labels = os.path.join(dataset_params['data_dir'], dataset_params['test_labels_dir'])\n",
        "\n",
        "    # Copy/move files\n",
        "    copy_move_files(train_files, src_images, src_labels, dest_train_images, dest_train_labels)\n",
        "    copy_move_files(val_files, src_images, src_labels, dest_val_images, dest_val_labels)\n",
        "    copy_move_files(test_files, src_images, src_labels, dest_test_images, dest_test_labels)\n",
        "\n",
        "    print(f\"Dataset created at {dataset_params['data_dir']} with splits:\")\n",
        "    print(f\"Train: {len(train_files)} images\")\n",
        "    print(f\"Validation: {len(val_files)} images\")\n",
        "    print(f\"Test: {len(test_files)} images\")"
      ],
      "metadata": {
        "id": "-saGiww7gp80"
      },
      "execution_count": 10,
      "outputs": []
    },
    {
      "cell_type": "code",
      "source": [
        "# Define label mapping\n",
        "label_mapping = {\n",
        "    'human': 'person'\n",
        "}\n",
        "\n",
        "# Standardize labels in the merged dataset\n",
        "standardize_labels(\n",
        "    merged_labels_dir=os.path.join(merged_dataset_dir, 'labels'),\n",
        "    label_mapping=label_mapping,\n",
        "    target_class_id=1  # Assuming 'person' has class ID 1\n",
        ")"
      ],
      "metadata": {
        "colab": {
          "base_uri": "https://localhost:8080/",
          "height": 356
        },
        "id": "g2sfe4zkqHTn",
        "outputId": "5bf3b997-4e1c-43f1-e216-c588358f5737"
      },
      "execution_count": 18,
      "outputs": [
        {
          "output_type": "error",
          "ename": "RecursionError",
          "evalue": "maximum recursion depth exceeded while calling a Python object",
          "traceback": [
            "\u001b[0;31m---------------------------------------------------------------------------\u001b[0m",
            "\u001b[0;31mRecursionError\u001b[0m                            Traceback (most recent call last)",
            "\u001b[0;32m<ipython-input-18-d869b37b055d>\u001b[0m in \u001b[0;36m<cell line: 7>\u001b[0;34m()\u001b[0m\n\u001b[1;32m      5\u001b[0m \u001b[0;34m\u001b[0m\u001b[0m\n\u001b[1;32m      6\u001b[0m \u001b[0;31m# Standardize labels in the merged dataset\u001b[0m\u001b[0;34m\u001b[0m\u001b[0;34m\u001b[0m\u001b[0m\n\u001b[0;32m----> 7\u001b[0;31m standardize_labels(\n\u001b[0m\u001b[1;32m      8\u001b[0m     \u001b[0mmerged_labels_dir\u001b[0m\u001b[0;34m=\u001b[0m\u001b[0mos\u001b[0m\u001b[0;34m.\u001b[0m\u001b[0mpath\u001b[0m\u001b[0;34m.\u001b[0m\u001b[0mjoin\u001b[0m\u001b[0;34m(\u001b[0m\u001b[0mmerged_dataset_dir\u001b[0m\u001b[0;34m,\u001b[0m \u001b[0;34m'labels'\u001b[0m\u001b[0;34m)\u001b[0m\u001b[0;34m,\u001b[0m\u001b[0;34m\u001b[0m\u001b[0;34m\u001b[0m\u001b[0m\n\u001b[1;32m      9\u001b[0m     \u001b[0mlabel_mapping\u001b[0m\u001b[0;34m=\u001b[0m\u001b[0mlabel_mapping\u001b[0m\u001b[0;34m,\u001b[0m\u001b[0;34m\u001b[0m\u001b[0;34m\u001b[0m\u001b[0m\n",
            "\u001b[0;32m<ipython-input-17-8695dd2206c7>\u001b[0m in \u001b[0;36mstandardize_labels\u001b[0;34m(merged_labels_dir, label_mapping, target_class_id)\u001b[0m\n\u001b[1;32m     77\u001b[0m \u001b[0;34m\u001b[0m\u001b[0m\n\u001b[1;32m     78\u001b[0m     \u001b[0;31m# Apply the mapping\u001b[0m\u001b[0;34m\u001b[0m\u001b[0;34m\u001b[0m\u001b[0m\n\u001b[0;32m---> 79\u001b[0;31m     \u001b[0mstandardize_labels\u001b[0m\u001b[0;34m(\u001b[0m\u001b[0mmerged_labels_dir\u001b[0m\u001b[0;34m,\u001b[0m \u001b[0mlabel_mapping\u001b[0m\u001b[0;34m,\u001b[0m \u001b[0mtarget_class_id\u001b[0m\u001b[0;34m=\u001b[0m\u001b[0;36m1\u001b[0m\u001b[0;34m)\u001b[0m\u001b[0;34m\u001b[0m\u001b[0;34m\u001b[0m\u001b[0m\n\u001b[0m",
            "... last 1 frames repeated, from the frame below ...\n",
            "\u001b[0;32m<ipython-input-17-8695dd2206c7>\u001b[0m in \u001b[0;36mstandardize_labels\u001b[0;34m(merged_labels_dir, label_mapping, target_class_id)\u001b[0m\n\u001b[1;32m     77\u001b[0m \u001b[0;34m\u001b[0m\u001b[0m\n\u001b[1;32m     78\u001b[0m     \u001b[0;31m# Apply the mapping\u001b[0m\u001b[0;34m\u001b[0m\u001b[0;34m\u001b[0m\u001b[0m\n\u001b[0;32m---> 79\u001b[0;31m     \u001b[0mstandardize_labels\u001b[0m\u001b[0;34m(\u001b[0m\u001b[0mmerged_labels_dir\u001b[0m\u001b[0;34m,\u001b[0m \u001b[0mlabel_mapping\u001b[0m\u001b[0;34m,\u001b[0m \u001b[0mtarget_class_id\u001b[0m\u001b[0;34m=\u001b[0m\u001b[0;36m1\u001b[0m\u001b[0;34m)\u001b[0m\u001b[0;34m\u001b[0m\u001b[0;34m\u001b[0m\u001b[0m\n\u001b[0m",
            "\u001b[0;31mRecursionError\u001b[0m: maximum recursion depth exceeded while calling a Python object"
          ]
        }
      ]
    },
    {
      "cell_type": "code",
      "source": [],
      "metadata": {
        "id": "QRdubeFDqCAh"
      },
      "execution_count": null,
      "outputs": []
    },
    {
      "cell_type": "code",
      "source": [],
      "metadata": {
        "id": "Joo5OOyLqCCy"
      },
      "execution_count": null,
      "outputs": []
    },
    {
      "cell_type": "code",
      "source": [],
      "metadata": {
        "id": "pga7xab7qCE7"
      },
      "execution_count": null,
      "outputs": []
    },
    {
      "cell_type": "code",
      "source": [],
      "metadata": {
        "id": "6MfgxxwrqCIZ"
      },
      "execution_count": null,
      "outputs": []
    },
    {
      "cell_type": "code",
      "source": [
        "# Define dataset parameters\n",
        "dataset_params = {\n",
        "    'data_dir': os.path.join(base_dir, 'final_dataset'),\n",
        "    'train_images_dir': 'train/images',\n",
        "    'train_labels_dir': 'train/labels',\n",
        "    'val_images_dir': 'valid/images',\n",
        "    'val_labels_dir': 'valid/labels',\n",
        "    'test_images_dir': 'test/images',\n",
        "    'test_labels_dir': 'test/labels',\n",
        "    'classes': ['forklift', 'person']  # Update based on actual classes in your datasets\n",
        "}\n",
        "\n",
        "# Define split ratios\n",
        "split_ratios = (0.7, 0.2, 0.1)\n",
        "\n",
        "# Create dataset\n",
        "create_dataset(\n",
        "    merged_dir=merged_dataset_dir,\n",
        "    dataset_params=dataset_params,\n",
        "    split_ratios=split_ratios,\n",
        "    move_files=False  # Set to True if you want to move files instead of copying\n",
        ")"
      ],
      "metadata": {
        "colab": {
          "base_uri": "https://localhost:8080/"
        },
        "id": "JVvUCJwkgp_L",
        "outputId": "8305e366-46a3-494d-f1fb-f82587dceeee"
      },
      "execution_count": 11,
      "outputs": [
        {
          "output_type": "stream",
          "name": "stdout",
          "text": [
            "Dataset created at /content/YoloNAS_Project/final_dataset with splits:\n",
            "Train: 1977 images\n",
            "Validation: 565 images\n",
            "Test: 283 images\n"
          ]
        }
      ]
    },
    {
      "cell_type": "code",
      "source": [
        "def create_yaml(dataset_dir, classes):\n",
        "    \"\"\"\n",
        "    Creates a dataset.yaml file for YOLO-NAS.\n",
        "\n",
        "    Parameters:\n",
        "    - dataset_dir (str): Base directory of the dataset containing train/val/test splits.\n",
        "    - classes (list): List of class names.\n",
        "    \"\"\"\n",
        "    yaml_content = {\n",
        "        'train': os.path.join(dataset_dir, 'train/images'),\n",
        "        'val': os.path.join(dataset_dir, 'valid/images'),\n",
        "        'test': os.path.join(dataset_dir, 'test/images'),  # Optional\n",
        "        'nc': len(classes),\n",
        "        'names': classes\n",
        "    }\n",
        "\n",
        "    yaml_path = os.path.join(dataset_dir, 'dataset.yaml')\n",
        "    with open(yaml_path, 'w') as f:\n",
        "        yaml.dump(yaml_content, f)\n",
        "\n",
        "    print(f\"dataset.yaml created at {yaml_path}\")"
      ],
      "metadata": {
        "id": "HuiuveaxgqBg"
      },
      "execution_count": 36,
      "outputs": []
    },
    {
      "cell_type": "code",
      "source": [],
      "metadata": {
        "id": "9WDxvSPYqHW2"
      },
      "execution_count": null,
      "outputs": []
    },
    {
      "cell_type": "code",
      "source": [
        "# Create dataset.yaml\n",
        "create_yaml(dataset_params['data_dir'], dataset_params['classes'])"
      ],
      "metadata": {
        "colab": {
          "base_uri": "https://localhost:8080/",
          "height": 159
        },
        "id": "p2IKpZr1gqDn",
        "outputId": "1c90cbd6-d951-4dda-a789-c879857e664e"
      },
      "execution_count": 37,
      "outputs": [
        {
          "output_type": "error",
          "ename": "NameError",
          "evalue": "name 'dataset_params' is not defined",
          "traceback": [
            "\u001b[0;31m---------------------------------------------------------------------------\u001b[0m",
            "\u001b[0;31mNameError\u001b[0m                                 Traceback (most recent call last)",
            "\u001b[0;32m<ipython-input-37-57442c2ee513>\u001b[0m in \u001b[0;36m<cell line: 2>\u001b[0;34m()\u001b[0m\n\u001b[1;32m      1\u001b[0m \u001b[0;31m# Create dataset.yaml\u001b[0m\u001b[0;34m\u001b[0m\u001b[0;34m\u001b[0m\u001b[0m\n\u001b[0;32m----> 2\u001b[0;31m \u001b[0mcreate_yaml\u001b[0m\u001b[0;34m(\u001b[0m\u001b[0mdataset_params\u001b[0m\u001b[0;34m[\u001b[0m\u001b[0;34m'data_dir'\u001b[0m\u001b[0;34m]\u001b[0m\u001b[0;34m,\u001b[0m \u001b[0mdataset_params\u001b[0m\u001b[0;34m[\u001b[0m\u001b[0;34m'classes'\u001b[0m\u001b[0;34m]\u001b[0m\u001b[0;34m)\u001b[0m\u001b[0;34m\u001b[0m\u001b[0;34m\u001b[0m\u001b[0m\n\u001b[0m",
            "\u001b[0;31mNameError\u001b[0m: name 'dataset_params' is not defined"
          ]
        }
      ]
    },
    {
      "cell_type": "markdown",
      "source": [
        "# Dataloaders"
      ],
      "metadata": {
        "id": "-vadYFrpk3xN"
      }
    },
    {
      "cell_type": "code",
      "source": [
        "# Example usage of custom data loader functions\n",
        "\n",
        "train_data = coco_detection_yolo_format_train(\n",
        "    dataset_params={\n",
        "        'data_dir': dataset_params['data_dir'],\n",
        "        'images_dir': dataset_params['train_images_dir'],\n",
        "        'labels_dir': dataset_params['train_labels_dir'],\n",
        "        'classes': dataset_params['classes']\n",
        "    },\n",
        "    dataloader_params={\n",
        "        'batch_size':8,\n",
        "        'num_workers':2\n",
        "    }\n",
        ")\n",
        "\n",
        "val_data = coco_detection_yolo_format_val(\n",
        "    dataset_params={\n",
        "        'data_dir': dataset_params['data_dir'],\n",
        "        'images_dir': dataset_params['val_images_dir'],\n",
        "        'labels_dir': dataset_params['val_labels_dir'],\n",
        "        'classes': dataset_params['classes']\n",
        "    },\n",
        "    dataloader_params={\n",
        "        'batch_size':8,\n",
        "        'num_workers':2\n",
        "    }\n",
        ")\n",
        "\n",
        "test_data = coco_detection_yolo_format_val(\n",
        "    dataset_params={\n",
        "        'data_dir': dataset_params['data_dir'],\n",
        "        'images_dir': dataset_params['test_images_dir'],\n",
        "        'labels_dir': dataset_params['test_labels_dir'],\n",
        "        'classes': dataset_params['classes']\n",
        "    },\n",
        "    dataloader_params={\n",
        "        'batch_size':8,\n",
        "        'num_workers':2\n",
        "    }\n",
        ")"
      ],
      "metadata": {
        "colab": {
          "base_uri": "https://localhost:8080/"
        },
        "id": "HpUaUZ3IgqFm",
        "outputId": "6b76e665-a307-459f-e2fa-8137254a8264"
      },
      "execution_count": 15,
      "outputs": [
        {
          "output_type": "stream",
          "name": "stderr",
          "text": [
            "[2024-09-28 12:27:44] INFO - detection_dataset.py - Dataset Initialization in progress. `cache_annotations=True` causes the process to take longer due to full dataset indexing.\n",
            "Indexing dataset annotations: 100%|██████████| 1977/1977 [00:00<00:00, 4981.89it/s]\n",
            "[2024-09-28 12:27:45] INFO - detection_dataset.py - Dataset Initialization in progress. `cache_annotations=True` causes the process to take longer due to full dataset indexing.\n",
            "Indexing dataset annotations: 100%|██████████| 565/565 [00:00<00:00, 2205.46it/s]\n",
            "[2024-09-28 12:27:46] INFO - detection_dataset.py - Dataset Initialization in progress. `cache_annotations=True` causes the process to take longer due to full dataset indexing.\n"
          ]
        }
      ]
    },
    {
      "cell_type": "code",
      "source": [],
      "metadata": {
        "id": "YoQUmckdgqG6"
      },
      "execution_count": null,
      "outputs": []
    },
    {
      "cell_type": "code",
      "source": [],
      "metadata": {
        "id": "-ZoJTBVvgqKb"
      },
      "execution_count": null,
      "outputs": []
    },
    {
      "cell_type": "code",
      "source": [],
      "metadata": {
        "id": "T3TNb9fegqMK"
      },
      "execution_count": null,
      "outputs": []
    }
  ]
}